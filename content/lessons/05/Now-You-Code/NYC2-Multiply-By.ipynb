{
 "cells": [
  {
   "cell_type": "markdown",
   "metadata": {},
   "source": [
    "# Now You Code 2: Multiply By\n",
    "\n",
    "Write a program to ask for a number to multiply by and then lists the multiplication table for that number from 1 to 10. This process will repeat until you enter quit as which point the program will exit.\n",
    "\n",
    "Wow. Seems complicated! We'll use technique called problem simplification to make this problem a little easier to solve.\n",
    "\n",
    "First we'll write a complete program to solve *part* of the problem, then we will take our new level of understanding to solve the *entire* problem.\n",
    "\n",
    "## Start with Sub-Problem 1\n",
    "\n",
    "Let's write a program to simply input a number and then uses a loop to print out the multiplication table up to 10  for that number. \n",
    "\n",
    "For example, when you input `5`:\n",
    "\n",
    "```\n",
    "Enter number to multiply by: 5\n",
    "1 x 5 = 5\n",
    "2 x 5 = 10\n",
    "3 x 5 = 15\n",
    "4 x 5 = 20\n",
    "5 x 5 = 25\n",
    "6 x 5 = 30\n",
    "7 x 5 = 35\n",
    "8 x 5 = 40\n",
    "9 x 5 = 45\n",
    "10 x 5 = 50\n",
    "```\n"
   ]
  },
  {
   "cell_type": "markdown",
   "metadata": {
    "collapsed": true
   },
   "source": [
    "## Step 1: Problem Analysis for Sub-Problem 1\n",
    "\n",
    "Inputs:\n",
    "\n",
    "Outputs:\n",
    "\n",
    "Algorithm (Steps in Program):\n",
    "\n",
    "\n"
   ]
  },
  {
   "cell_type": "code",
   "execution_count": null,
   "metadata": {},
   "outputs": [],
   "source": [
    "# Step 2: write code for sub-problem 1\n"
   ]
  },
  {
   "cell_type": "markdown",
   "metadata": {},
   "source": [
    "# Full Problem \n",
    "\n",
    "Now that we've got part of the problem figured out, let's solve the entire problem. The program should keep asking for numbers and then print out multiplcation tables until you enter `quit`. Here's an example:\n",
    "\n",
    "Example Run:\n",
    "\n",
    "```\n",
    "Enter number to multiply by or type 'quit': 10\n",
    "1 x 10 = 10\n",
    "2 x 10 = 20\n",
    "3 x 10 = 30\n",
    "4 x 10 = 40\n",
    "5 x 10 = 50\n",
    "6 x 10 = 60\n",
    "7 x 10 = 70\n",
    "8 x 10 = 80\n",
    "9 x 10 = 90\n",
    "10 x 10 = 100\n",
    "Enter number to multiply by or type 'quit': 5\n",
    "1 x 5 = 5\n",
    "2 x 5 = 10\n",
    "3 x 5 = 15\n",
    "4 x 5 = 20\n",
    "5 x 5 = 25\n",
    "6 x 5 = 30\n",
    "7 x 5 = 35\n",
    "8 x 5 = 40\n",
    "9 x 5 = 45\n",
    "10 x 5 = 50\n",
    "Enter number to multiply by or type 'quit': quit\n",
    "```\n",
    "\n",
    "**NOTE:** you need another loop complete this program. Take the code you wrote in the first part and repeat it in another loop until you type quit. "
   ]
  },
  {
   "cell_type": "markdown",
   "metadata": {
    "collapsed": true
   },
   "source": [
    "## Step 3: Problem Analysis for Full Problem\n",
    "\n",
    "Inputs:\n",
    "\n",
    "Outputs:\n",
    "\n",
    "Algorithm (Steps in Program):"
   ]
  },
  {
   "cell_type": "code",
   "execution_count": 1,
   "metadata": {},
   "outputs": [
    {
     "name": "stdout",
     "output_type": "stream",
     "text": [
      "Enter a number here: 4\n",
      "1 x 4 = 4\n",
      "2 x 4 = 8\n",
      "3 x 4 = 12\n",
      "4 x 4 = 16\n",
      "5 x 4 = 20\n",
      "6 x 4 = 24\n",
      "7 x 4 = 28\n",
      "8 x 4 = 32\n",
      "9 x 4 = 36\n",
      "10 x 4 = 40\n"
     ]
    }
   ],
   "source": [
    "# Step 4: Write code for full problem\n",
    "\n",
    "count = 1\n",
    "while True:\n",
    "    \n",
    "    number = int(input('Enter a number here: '))\n",
    "    while count in range(1,11):\n",
    "        calc = count * number \n",
    "        print(\"%d x %d = %d\" % (count, number, calc))\n",
    "        \n",
    "        count += 1\n",
    "        \n",
    "    else:\n",
    "        break\n",
    "        \n"
   ]
  },
  {
   "cell_type": "code",
   "execution_count": null,
   "metadata": {},
   "outputs": [
    {
     "name": "stdout",
     "output_type": "stream",
     "text": [
      "Times Tables!\n",
      "Enter a number: SDGDFBSDF\n",
      "Please enetr a valid input\n"
     ]
    }
   ],
   "source": [
    "print(\"Times Tables!\")\n",
    "\n",
    "#Starts the loop\n",
    "while True:\n",
    "    try:\n",
    "        number = input(\"Enter a number: \") #Prompts user\n",
    "        number = number.lower() #allows done to have uppercase in it\n",
    "        if number == \"done\": #ends the program if done is typed\n",
    "            break\n",
    "        multi = [1,2,3,4,5,6,7,8,9,10] #creates the multication\n",
    "        num_f = number.find(\".\") #finsd the decimal point if there is one\n",
    "        if num_f == -1 or number [num_f+1:] == 0: \n",
    "            number = int(number)\n",
    "        else:\n",
    "            number = float(number)\n",
    "        for num in multi: #Loops the print per item in list\n",
    "            print(num,\"x\", number,\"=\",(num*number))\n",
    "        print(\"Type 'done' to quit\")\n",
    "    except:\n",
    "        print(\"Please enetr a valid input\")\n",
    "            \n",
    "    "
   ]
  },
  {
   "cell_type": "markdown",
   "metadata": {},
   "source": [
    "## Step 3: Questions\n",
    "\n",
    "1. What is the loop control variable for the first (outer) loop?\n",
    "2. What is the loop control variable for the second (inner) loop?\n",
    "3. Provide at least one way this program can be improved, or make more flexible by introducing more inputs?\n"
   ]
  },
  {
   "cell_type": "markdown",
   "metadata": {},
   "source": [
    "## Reminder of Evaluation Criteria\n",
    "\n",
    "1. What the problem attempted (analysis, code, and answered questions) ?\n",
    "2. What the problem analysis thought out? (does the program match the plan?)\n",
    "3. Does the code execute without syntax error?\n",
    "4. Does the code solve the intended problem?\n",
    "5. Is the code well written? (easy to understand, modular, and self-documenting, handles errors)\n"
   ]
  },
  {
   "cell_type": "code",
   "execution_count": null,
   "metadata": {},
   "outputs": [],
   "source": [
    "while True:\n",
    "    number = (input(\"enter a number to multiply by\"))\n",
    "    if number == str((\"quit\")):\n",
    "        break\n",
    "    if int(number) > 0 or int(number) <0:\n",
    "        for multiple in range (1,11):\n",
    "            print(multiple, \"x\", number,\"=\", int(number)*int(multiple))"
   ]
  },
  {
   "cell_type": "code",
   "execution_count": null,
   "metadata": {},
   "outputs": [],
   "source": []
  }
 ],
 "metadata": {
  "anaconda-cloud": {},
  "kernelspec": {
   "display_name": "Python 3",
   "language": "python",
   "name": "python3"
  },
  "language_info": {
   "codemirror_mode": {
    "name": "ipython",
    "version": 3
   },
   "file_extension": ".py",
   "mimetype": "text/x-python",
   "name": "python",
   "nbconvert_exporter": "python",
   "pygments_lexer": "ipython3",
   "version": "3.6.5"
  }
 },
 "nbformat": 4,
 "nbformat_minor": 1
}
