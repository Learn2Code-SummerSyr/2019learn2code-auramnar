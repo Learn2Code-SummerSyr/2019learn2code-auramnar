{
 "cells": [
  {
   "cell_type": "markdown",
   "metadata": {},
   "source": [
    "A while loop is a construct that repeatedly executes an indented block of code as long as the loop's expression is True. At the end of the loop body, execution goes back to the while loop statement and the loop expression is evaluated again. If the loop expression is True, the loop body is executed again. But, if the expression evaluates to False, then execution instead proceeds to below the loop body.\n",
    "\n",
    "Good practice is to include greater than or less than along with equality in a loop expression to help avoid infinite loops."
   ]
  },
  {
   "cell_type": "raw",
   "metadata": {},
   "source": [
    "What is the keyword in a loop that keeps repeating as long as some condition is met?\n",
    "\n",
    "\n",
    "Code the first line of a while loop that keeps repeating as long as x equals 1.\n",
    "\n",
    "Code the first line of a while loop that keeps repeating as long as x doesn't equal \"Syracuse\"\n",
    "\n",
    "Code the line that must precede this line.\n",
    "\n",
    "\n",
    "As long as x doesn't equal 99, display x, then increment it by 1 using the concise way to increment.\n"
   ]
  },
  {
   "cell_type": "raw",
   "metadata": {},
   "source": [
    "How many times will the loop execute?\n",
    "x = 3\n",
    "while x >= 1:\n",
    "    # Do something\n",
    "    x = x - 1\n",
    "\n",
    "\n",
    "How many times will the loop execute? Assume user would enter 'n', then 'n', then 'y'. \n",
    "#Get character from user here\n",
    "while user_char != 'n':\n",
    "    # Do something\n",
    "    # Get character from user here   \n",
    "   \n",
    "How many times will the loop execute? Assume user would enter 'a', then 'b', then 'n'. \n",
    "# Get character from user here\n",
    "while user_char != 'n':\n",
    "    # Do something\n",
    "    # Get character from user here  "
   ]
  },
  {
   "cell_type": "raw",
   "metadata": {},
   "source": [
    "What is the output of the following code?\n",
    "\n",
    "x = 0\n",
    "while x > 0:\n",
    "    print(x, end=' ')\n",
    "    x = x - 1\n",
    "print('Bye')\n",
    "\n",
    "\n",
    "\n",
    "x = 5\n",
    "y = 18\n",
    "while y >= x:\n",
    "    print(y, end=' ')\n",
    "    y = y - x\n",
    "    \n",
    "    \n",
    "\n",
    "x = 10\n",
    "while x != 3:\n",
    "    print(x, end=' ')\n",
    "    x = x / 2\n"
   ]
  },
  {
   "cell_type": "code",
   "execution_count": 1,
   "metadata": {},
   "outputs": [
    {
     "name": "stdout",
     "output_type": "stream",
     "text": [
      "18 13 8 "
     ]
    }
   ],
   "source": [
    "x = 5\n",
    "y = 18\n",
    "while y >= x:\n",
    "    print(y, end=' ')\n",
    "    y = y - x"
   ]
  },
  {
   "cell_type": "code",
   "execution_count": 2,
   "metadata": {},
   "outputs": [
    {
     "name": "stdout",
     "output_type": "stream",
     "text": [
      "Tell me something about yourself.\n",
      "You can type 'Goodbye' at anytime to quit.\n",
      "\n",
      "I like pizza.\n",
      "\n",
      "Why do you say: 'I like pizza.'?\n",
      "\n",
      "Because it is a food of cheesy goodness.\n",
      "\n",
      "What else can you share?\n",
      "\n",
      "I like to read.\n",
      "\n",
      "What else can you share?\n",
      "\n",
      "I like to code.\n",
      "\n",
      "Please explain further.\n",
      "\n",
      "Goodbye\n",
      "It was nice talking with you. Goodbye.\n",
      "\n"
     ]
    }
   ],
   "source": [
    "'''\n",
    "Program that has a conversation with the user.\n",
    "Uses elif branching and a random number to mix up the program's responses.\n",
    "'''\n",
    "import random  \n",
    "\n",
    "print('Tell me something about yourself.')\n",
    "print('You can type \\'Goodbye\\' at anytime to quit.\\n')\n",
    "\n",
    "user_text = input()\n",
    "\n",
    "while user_text != 'Goodbye':\n",
    "    random_num = random.randint(0, 4)  # Gives a random number between 0 and 2\n",
    "    if random_num == 0:\n",
    "        print('\\nPlease explain further.\\n')\n",
    "    elif random_num == 1:\n",
    "        print(\"\\nWhy do you say: '%s'?\\n\" % user_text)\n",
    "    elif random_num == 2:\n",
    "        print('\\nWhat else can you share?\\n')\n",
    "    elif random_num == 3 : \n",
    "        \n",
    "    else:\n",
    "        print('\\nUh-oh, something went wrong. Try again.\\n')\n",
    "\n",
    "    user_text = input()\n",
    "\n",
    "print('It was nice talking with you. Goodbye.\\n')"
   ]
  },
  {
   "cell_type": "raw",
   "metadata": {},
   "source": [
    "Which if-else branch will execute if the user types \"Goodbye\"? \n",
    "\n",
    "How many times does the loop iterate in the program?\n",
    "\n",
    "If I want to add more response. What will you do?"
   ]
  },
  {
   "cell_type": "code",
   "execution_count": null,
   "metadata": {},
   "outputs": [
    {
     "name": "stdout",
     "output_type": "stream",
     "text": [
      "Initial savings of $10000\n",
      "at 5% yearly interest.\n",
      "\n"
     ]
    }
   ],
   "source": []
  },
  {
   "cell_type": "markdown",
   "metadata": {},
   "source": [
    "## Counting \n",
    "\n",
    "Iterating N times using a loop variable\n",
    "i = 1\n",
    "while i <= 10:\n",
    "    # Loop body statements go here\n",
    "    i = i + 1\n",
    "    \n",
    "\n",
    "\n",
    "i = 5\n",
    "while i >= 1:\n",
    "    # Loop body statements go here\n",
    "    i = i - 1"
   ]
  },
  {
   "cell_type": "code",
   "execution_count": 1,
   "metadata": {},
   "outputs": [
    {
     "name": "stdout",
     "output_type": "stream",
     "text": [
      "1\n",
      "2\n",
      "3\n",
      "4\n"
     ]
    }
   ],
   "source": [
    "# Write a while loop that prints from 1 to user_num. Sample output \n",
    "\n",
    "# 1\n",
    "# 2\n",
    "# 3\n",
    "# 4\n",
    "\n",
    "\n",
    "i = 1\n",
    "user_num = 4 # Assume positive\n",
    "\n"
   ]
  },
  {
   "cell_type": "markdown",
   "metadata": {},
   "source": [
    "## For loops\n",
    "\n",
    "for variable in container:\n",
    "    # Loop body: Sub-statements to execute\n",
    "    # for each item in the container\n",
    "    \n",
    "\n",
    "for name in [\"Edward\", \"Caroline\", \"Max\"]:\n",
    "    print ('Hi %s!' % name)\n",
    "\n"
   ]
  },
  {
   "cell_type": "code",
   "execution_count": 2,
   "metadata": {},
   "outputs": [
    {
     "name": "stdout",
     "output_type": "stream",
     "text": [
      "Weekly revenue: $13888.690000\n",
      "Daily average revenue: $1984.098571\n"
     ]
    }
   ],
   "source": [
    "# Calculating shop revenue\n",
    "\n",
    "\n",
    "daily_revenues = [\n",
    "    2356.23,  # Monday\n",
    "    1800.12,  # Tuesday\n",
    "    1792.50,  # Wednesday\n",
    "    2058.10,  # Thursday\n",
    "    1988.00,  # Friday\n",
    "    2002.99,  # Saturday\n",
    "    1890.75   # Sunday\n",
    "]\n",
    "\n",
    "\n",
    "total = 0\n",
    "for day in daily_revenues:\n",
    "    total += day\n",
    "\n",
    "average = total / len(daily_revenues)\n",
    "\n",
    "print('Weekly revenue: $%f' % total)\n",
    "print('Daily average revenue: $%f' % average)"
   ]
  },
  {
   "cell_type": "code",
   "execution_count": 3,
   "metadata": {},
   "outputs": [
    {
     "name": "stdout",
     "output_type": "stream",
     "text": [
      "Liqui | Issak | Carson | Yang | Arthur | \n",
      "Printing in reverse:\n",
      "Arthur | Yang | Carson | Issak | Liqui | "
     ]
    }
   ],
   "source": [
    "# Printing in reverse\n",
    "\n",
    "names = [\n",
    "    'Liqui',\n",
    "    'Issak', \n",
    "    'Carson',\n",
    "    'Yang',\n",
    "    'Arthur'\n",
    "]\n",
    "\n",
    "for name in names:\n",
    "    print(name, '|', end=' ')\n",
    "\n",
    "print('\\nPrinting in reverse:')\n",
    "for name in reversed(names):\n",
    "    print(name, '|', end=' ')"
   ]
  },
  {
   "cell_type": "code",
   "execution_count": null,
   "metadata": {},
   "outputs": [],
   "source": [
    "Compute the average number of kids.\n",
    "\n",
    "num_kids = [1, 1, 2, 2, 1, 4, 3, 1]"
   ]
  },
  {
   "cell_type": "code",
   "execution_count": null,
   "metadata": {},
   "outputs": [],
   "source": [
    "# Print each stock price using a for loop\n",
    "\n",
    "stock_prices = [34.62, 76.30, 85.05]"
   ]
  },
  {
   "cell_type": "code",
   "execution_count": 5,
   "metadata": {},
   "outputs": [
    {
     "name": "stdout",
     "output_type": "stream",
     "text": [
      "Enter years: 5\n",
      "\n",
      " Savings in year 0: $10000.000000\n",
      " Savings in year 1: $10500.000000\n",
      " Savings in year 2: $11025.000000\n",
      " Savings in year 3: $11576.250000\n",
      " Savings in year 4: $12155.062500\n",
      "\n",
      "\n"
     ]
    }
   ],
   "source": [
    "# The range() function allows counting in for loops.\n",
    "\n",
    "initial_savings = 10000\n",
    "interest_rate = 0.05\n",
    "\n",
    "years = int(input('Enter years: '))\n",
    "print()\n",
    "\n",
    "savings = initial_savings\n",
    "for i in range(years):\n",
    "    print(' Savings in year %d: $%f' % (i, savings))\n",
    "    savings = savings + (savings*interest_rate)\n",
    "\n",
    "print('\\n')"
   ]
  },
  {
   "cell_type": "code",
   "execution_count": null,
   "metadata": {},
   "outputs": [],
   "source": []
  }
 ],
 "metadata": {
  "kernelspec": {
   "display_name": "Python 3",
   "language": "python",
   "name": "python3"
  },
  "language_info": {
   "codemirror_mode": {
    "name": "ipython",
    "version": 3
   },
   "file_extension": ".py",
   "mimetype": "text/x-python",
   "name": "python",
   "nbconvert_exporter": "python",
   "pygments_lexer": "ipython3",
   "version": "3.6.5"
  }
 },
 "nbformat": 4,
 "nbformat_minor": 2
}
