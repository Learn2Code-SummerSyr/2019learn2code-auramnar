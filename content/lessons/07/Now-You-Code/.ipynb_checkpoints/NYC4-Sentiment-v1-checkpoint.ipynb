{
 "cells": [
  {
   "cell_type": "markdown",
   "metadata": {},
   "source": [
    "# Now You Code 4: Sentiment v1.0\n",
    "\n",
    "Let's write a basic sentiment analyzer in Python. Sentiment analysis is the act of extracting mood from text. It has practical applications in analyzing reactions in social media, product opinions, movie reviews and much more.\n",
    "\n",
    "The 1.0 version of our sentiment analyzer will start with a string of positive and negative words. For any input text and the sentiment score will be calculated by simply adding up the frequency of the positive words, then subtracting out the negative words.\n",
    "\n",
    "So for example, if:\n",
    "\n",
    "```\n",
    "    positive_text = \"happy glad like\"\n",
    "    negative_text = \"angry mad hate\"\n",
    "    input_text = \"Amazon makes me like so angry and mad\"\n",
    "    score = -1 [ +1 for like, -1 for angry, -1 for mad]\n",
    "```\n",
    "\n",
    "You will complete this program by first writing the sentiment function, then writing some tests for it.\n",
    "\n",
    "You will conclude by writing the complete sentiment analyzer to score any sentence. \n",
    "\n"
   ]
  },
  {
   "cell_type": "markdown",
   "metadata": {},
   "source": [
    "## Problem Analysis For Sentiment Function\n",
    "\n",
    "\n",
    "You want to write `ScoreSentiment()` as a function:\n",
    "\n",
    "- Function: `ScoreSentiment()`\n",
    "- Arguments (input): `postive_text, negative_text, input_text`\n",
    "- Returns (output): `score (int)`\n",
    "\n",
    "Algorithm (Steps in Program):\n",
    "\n",
    "```\n",
    "for each word in our tokenized input_text\n",
    "    if word in positive_text then\n",
    "        increment seniment score\n",
    "    else if word in negative_text then\n",
    "        decrement sentiment score\n",
    "```\n",
    "\n",
    "## Step 1: Write the function\n"
   ]
  },
  {
   "cell_type": "code",
   "execution_count": 1,
   "metadata": {},
   "outputs": [],
   "source": [
    "def ScoreSentiment(input_text):\n",
    "    score = 0\n",
    "    positive_text = ['happy','glad','like','love','enjoy','great','exceptional','superb','joy','enjoy']\n",
    "    negative_text = ['bad','angry','horrible','sucks','stupid','hate','sad','pain','annoyed','dumb']\n",
    "    input_text = input_text.lower()\n",
    "    input_text = input_text.split()\n",
    "    for words in positive_text:\n",
    "        for word in input_text:\n",
    "            if word == words:\n",
    "                score += 1\n",
    "    for n_words in input_text:\n",
    "        for n_words in input_text:\n",
    "            if n_words == n_words:\n",
    "                score -= 1\n",
    "    return score"
   ]
  },
  {
   "cell_type": "code",
   "execution_count": 2,
   "metadata": {},
   "outputs": [
    {
     "name": "stdout",
     "output_type": "stream",
     "text": [
      "Sentiment Analyzer 1.0\n",
      "Please enter the line to be analyzed: good\n",
      "that text has a score of -1\n",
      "Type 'done' to end the program \n",
      "Please enter the line to be analyzed: bad\n",
      "that text has a score of -1\n",
      "Type 'done' to end the program \n",
      "Please enter the line to be analyzed: bad sucks\n",
      "that text has a score of -4\n",
      "Type 'done' to end the program \n",
      "Please enter the line to be analyzed: done\n"
     ]
    }
   ],
   "source": [
    "print(\"Sentiment Analyzer 1.0\")\n",
    "\n",
    "while True:\n",
    "    text = input(\"Please enter the line to be analyzed: \")\n",
    "    if text.lower() == 'done':\n",
    "        break\n",
    "    else:\n",
    "        print(\"that text has a score of\", ScoreSentiment(text))\n",
    "    print(\"Type 'done' to end the program \")"
   ]
  },
  {
   "cell_type": "markdown",
   "metadata": {},
   "source": [
    "## Step 2: Write tests for the function\n",
    "\n",
    "With the function complete, we need to test our function. The simplest way to do that is call the function with inputs we expect and verify the output. For example:\n",
    "\n",
    "```\n",
    "pos_text='happy joy good'\n",
    "neg_text ='sad pain bad'\n",
    "\n",
    "WHEN input_text='I am sad with joy' We EXPECT ScoreSentiment(input_text) to return 0\n",
    "WHEN input_text='I am sad and in pain' We EXPECT ScoreSentiment(input_text) to return -2\n",
    "WHEN input_text='I am happy with joy' We EXPECT ScoreSentiment(input_text) to return 2\n",
    "```\n"
   ]
  },
  {
   "cell_type": "code",
   "execution_count": null,
   "metadata": {},
   "outputs": [],
   "source": [
    "## TODO write tests here."
   ]
  },
  {
   "cell_type": "markdown",
   "metadata": {},
   "source": [
    "## Step 3: Write final program \n",
    "\n",
    "Then write a main program that executes like this:\n",
    "\n",
    "Sample Run\n",
    "\n",
    "```\n",
    "Sentiment Analyzer 1.0\n",
    "Type 'quit' to exit.\n",
    "Enter Text: i love a good book from amazon\n",
    "2 positive.\n",
    "Enter Text: i hate amazon their service makes me angry\n",
    "-2 negative.\n",
    "Enter Text: i love to hate amazon\n",
    "0 neutral.\n",
    "Enter Text: quit\n",
    "```\n",
    "\n",
    "NOTE: make up your own strings of positive and negative words to make the sentiment more accurate. "
   ]
  },
  {
   "cell_type": "markdown",
   "metadata": {},
   "source": [
    "###  3.a : Problem Analysis\n",
    "\n",
    "Inputs:\n",
    "\n",
    "\n",
    "Outputs:\n",
    "\n",
    "\n",
    "ALGORITHM:\n",
    "\n"
   ]
  },
  {
   "cell_type": "code",
   "execution_count": null,
   "metadata": {},
   "outputs": [
    {
     "name": "stdout",
     "output_type": "stream",
     "text": [
      "Enter a sentence: I'm happy and sad\n",
      "0\n"
     ]
    }
   ],
   "source": [
    "## TODO: 3b write program\n",
    "\n",
    "positive_text = ['happy', 'glad']\n",
    "negative_text = ['sad', 'mad']\n",
    "def ScoreSentiment(wordtest, positive_text, negative_text):\n",
    "    score = 0\n",
    "    for i in wordtest:\n",
    "        if i in positive_text:\n",
    "            score = score+1\n",
    "        if i in negative_text:\n",
    "            score = score - 1\n",
    "    return score\n",
    "while True:\n",
    "    input_text=input(\"Enter a sentence: \")\n",
    "    if input_text == 'quit':\n",
    "        print(\"quitting\")\n",
    "        break\n",
    "    else:\n",
    "        wordtest = input_text.split()\n",
    "        final_score = ScoreSentiment(wordtest, positive_text, negative_text)\n",
    "        print(final_score)    "
   ]
  },
  {
   "cell_type": "markdown",
   "metadata": {},
   "source": [
    "## Step 4: Questions\n",
    "\n",
    "1. What can be done to make the sentiment more accurate?\n",
    "2. Do you see a problem with the method of scoring?\n",
    "3. Does the function improve readability of the final program in 3.b? Why or why not?\n"
   ]
  },
  {
   "cell_type": "markdown",
   "metadata": {},
   "source": [
    "## Reminder of Evaluation Criteria\n",
    "\n",
    "1. What the problem attempted (analysis, code, and answered questions) ?\n",
    "2. What the problem analysis thought out? (does the program match the plan?)\n",
    "3. Does the code execute without syntax error?\n",
    "4. Does the code solve the intended problem?\n",
    "5. Is the code well written? (easy to understand, modular, and self-documenting, handles errors)\n"
   ]
  }
 ],
 "metadata": {
  "anaconda-cloud": {},
  "kernelspec": {
   "display_name": "Python 3",
   "language": "python",
   "name": "python3"
  },
  "language_info": {
   "codemirror_mode": {
    "name": "ipython",
    "version": 3
   },
   "file_extension": ".py",
   "mimetype": "text/x-python",
   "name": "python",
   "nbconvert_exporter": "python",
   "pygments_lexer": "ipython3",
   "version": "3.6.5"
  }
 },
 "nbformat": 4,
 "nbformat_minor": 1
}
