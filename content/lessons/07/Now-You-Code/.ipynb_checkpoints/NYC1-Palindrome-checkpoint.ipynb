{
 "cells": [
  {
   "cell_type": "markdown",
   "metadata": {},
   "source": [
    "# Now You Code 1: Palindrome Detector\n",
    "\n",
    "Write a program to detect palindromes [https://en.wikipedia.org/wiki/Palindrome]. A palindrome is defined as a word or phrase which is the same in reverse. Here's some example's of one word palindromes:\n",
    "\n",
    "```\n",
    "dad\n",
    "wow\n",
    "pop\n",
    "abba\n",
    "noon\n",
    "kayak\n",
    "madam\n",
    "solos\n",
    "racecar\n",
    "```\n",
    "\n",
    "There's several ways you accomplish this but we'd recommend using Python's extended slice notation as covered in the readings. It's by far the simplest method. \n",
    "\n",
    "The final program should take input and return whether the text is or is not a palindrome until you enter `quit`.\n",
    "\n",
    "Sample run of complete program:\n",
    "\n",
    "```\n",
    "Enter text or type `quit`: dad\n",
    "'dad' is a palindrome.\n",
    "Enter text or type `quit`: pappa\n",
    "'pappa' is not a palindrome.\n",
    "Enter text or type `quit`: quit\n",
    "```\n",
    "\n",
    "Once again we will use the problem simplification technique to writing this program.\n",
    "\n",
    "First we will write the `isPalindrome(text)` function, then we will write the main program.\n"
   ]
  },
  {
   "cell_type": "markdown",
   "metadata": {},
   "source": [
    "## Step 1: Problem Analysis for isPalindrome function only\n",
    "\n",
    "Inputs: \n",
    "\n",
    "Outputs: \n",
    "\n",
    "Algorithm (Steps in Program):\n",
    "\n"
   ]
  },
  {
   "cell_type": "code",
   "execution_count": null,
   "metadata": {},
   "outputs": [],
   "source": [
    "## Step 2: todo write function definition here\n"
   ]
  },
  {
   "cell_type": "code",
   "execution_count": null,
   "metadata": {},
   "outputs": [],
   "source": [
    "## step 3: test the isPalindrome function to make sure it works:\n",
    "print(\"Input:\", \"kayak\", \"Should be True, Actual Value:\", isPalindrome(\"kayak\") )\n",
    "print(\"Input:\", \"mike\", \"Should be False, Actual Value:\", isPalindrome(\"mike\") )"
   ]
  },
  {
   "cell_type": "markdown",
   "metadata": {},
   "source": [
    "## Step 4: Problem Analysis for full Program\n",
    "\n",
    "Inputs:\n",
    "- User text \n",
    "\n",
    "Outputs:\n",
    "- forwards\n",
    "- backwards\n",
    "- palindrome or not\n",
    "- ask again\n",
    "Algorithm (Steps in Program):\n",
    "1. User input\n",
    "2. Check if user input is quit, if not proceed\n",
    "3. \"cleans\"\n"
   ]
  },
  {
   "cell_type": "code",
   "execution_count": null,
   "metadata": {},
   "outputs": [
    {
     "data": {
      "text/html": [
       "<H1>Palindrome Checker! \n",
       "<H1>"
      ],
      "text/plain": [
       "<IPython.core.display.HTML object>"
      ]
     },
     "metadata": {},
     "output_type": "display_data"
    },
    {
     "name": "stdout",
     "output_type": "stream",
     "text": [
      "Enter text, or type 'quit' to leave the program.tuiq\n",
      " \n",
      "Here is your text forwards: tuiq\n",
      "Here is your text backwards: qiut \n",
      "\n",
      "Result: This is not a palindrome\n",
      "Enter text, or type 'quit' to leave the program. quit\n",
      " \n",
      "Here is your text forwards: quit\n",
      "Here is your text backwards: tiuq \n",
      "\n",
      "Result: This is not a palindrome\n",
      "Enter text, or type 'quit' to leave the program.Minecraft\n",
      " \n",
      "Here is your text forwards: minecraft\n",
      "Here is your text backwards: tfarcenim \n",
      "\n",
      "Result: This is not a palindrome\n"
     ]
    }
   ],
   "source": [
    "## Step 5: todo write code for full problem, using the isPalindrome function to help you solve the problem\n",
    "from IPython.display import display, HTML\n",
    "import string\n",
    "\n",
    "def remove_punctuation(user_input_n):\n",
    "    user_input_cp = \"\"\n",
    "    for character in user_input_n:\n",
    "        if character not in string.punctuation:\n",
    "            user_input_cp += character\n",
    "    return user_input_cp\n",
    "\n",
    "def isPalindrome(user_input):\n",
    "    backwards = user_input[::-1]\n",
    "    print(\"Here is your text forwards: \" + user_input)\n",
    "    print(\"Here is your text backwards: \" + backwards, \"\\n\")\n",
    "    if user_input == backwards:\n",
    "        print(\"Result: This is a palindrome.\")\n",
    "    else:\n",
    "        print(\"Result: This is not a palindrome\")\n",
    "\n",
    "def TextPreparation(user_input_unclean):\n",
    "    user_inputv1 = user_input_unclean.lower()\n",
    "    user_inputv2 = remove_punctuation(user_inputv1)\n",
    "    user_input = ''.join(user_inputv2.split())\n",
    "    return user_input\n",
    "\n",
    "def print_title(text):\n",
    "    return display(HTML(\"<H1>\"+text+\"<H1>\"))\n",
    "\n",
    "def full_program():\n",
    "    user_input_uncleaned = input(\"Enter text, or type 'quit' to leave the program.\")\n",
    "    print(\" \")\n",
    "    if user_input_uncleaned == 'quit':\n",
    "        print(\"Program shutdown.\")\n",
    "    else:\n",
    "        user_input = TextPreparation(user_input_uncleaned)\n",
    "        isPalindrome(user_input)\n",
    "        full_program()\n",
    "\n",
    "print_title(\"Palindrome Checker! \\n\")\n",
    "full_program()\n"
   ]
  },
  {
   "cell_type": "code",
   "execution_count": null,
   "metadata": {},
   "outputs": [],
   "source": [
    "# A shorter version\n",
    "\n",
    "text = input(\"Enter Some text:\")\n",
    "reverse = text[::-1]\n",
    "if text == reverse:\n",
    "    print(\"%s is a palindrome!\" % text)\n",
    "else:\n",
    "    print(\"%s is NOT a palindrome!\" % text)\n",
    "\n"
   ]
  },
  {
   "cell_type": "markdown",
   "metadata": {},
   "source": [
    "## Step 6: Questions\n",
    "\n",
    "1. Did you use a loop inside your `isPalindrome` function? Can you think of a way to re-factor it without a loop?\n",
    "2. How many tests are required in step 3?\n",
    "3. What is the exit condition of the loop in the full program?\n"
   ]
  },
  {
   "cell_type": "markdown",
   "metadata": {},
   "source": [
    "## Reminder of Evaluation Criteria\n",
    "\n",
    "1. What the problem attempted (analysis, code, and answered questions) ?\n",
    "2. What the problem analysis thought out? (does the program match the plan?)\n",
    "3. Does the code execute without syntax error?\n",
    "4. Does the code solve the intended problem?\n",
    "5. Is the code well written? (easy to understand, modular, and self-documenting, handles errors)\n"
   ]
  },
  {
   "cell_type": "code",
   "execution_count": null,
   "metadata": {
    "collapsed": true
   },
   "outputs": [],
   "source": []
  }
 ],
 "metadata": {
  "anaconda-cloud": {},
  "kernelspec": {
   "display_name": "Python 3",
   "language": "python",
   "name": "python3"
  },
  "language_info": {
   "codemirror_mode": {
    "name": "ipython",
    "version": 3
   },
   "file_extension": ".py",
   "mimetype": "text/x-python",
   "name": "python",
   "nbconvert_exporter": "python",
   "pygments_lexer": "ipython3",
   "version": "3.6.5"
  }
 },
 "nbformat": 4,
 "nbformat_minor": 1
}
