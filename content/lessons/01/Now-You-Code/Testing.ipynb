{
 "cells": [
  {
   "cell_type": "code",
   "execution_count": 2,
   "metadata": {},
   "outputs": [
    {
     "name": "stdout",
     "output_type": "stream",
     "text": [
      "CHECK DIVIDER\n",
      "How many people are dining?10\n",
      "Check Total?100\n",
      "Each person should contribute 10.0 dollars.\n"
     ]
    }
   ],
   "source": [
    "print (\"CHECK DIVIDER\")\n",
    "\n",
    "people = int(input (\"How many people are dining?\"))\n",
    "check_total = float(input (\"Check Total?\"))\n",
    "contribution = check_total/people\n",
    "print (\"Each person should contribute\", contribution, \"dollars.\")"
   ]
  },
  {
   "cell_type": "code",
   "execution_count": null,
   "metadata": {},
   "outputs": [],
   "source": []
  }
 ],
 "metadata": {
  "kernelspec": {
   "display_name": "Python 3",
   "language": "python",
   "name": "python3"
  },
  "language_info": {
   "codemirror_mode": {
    "name": "ipython",
    "version": 3
   },
   "file_extension": ".py",
   "mimetype": "text/x-python",
   "name": "python",
   "nbconvert_exporter": "python",
   "pygments_lexer": "ipython3",
   "version": "3.6.5"
  }
 },
 "nbformat": 4,
 "nbformat_minor": 2
}
