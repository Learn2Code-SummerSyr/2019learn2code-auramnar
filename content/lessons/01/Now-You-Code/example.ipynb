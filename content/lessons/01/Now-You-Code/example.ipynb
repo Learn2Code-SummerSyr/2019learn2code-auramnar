{
 "cells": [
  {
   "cell_type": "code",
   "execution_count": 10,
   "metadata": {},
   "outputs": [
    {
     "name": "stdout",
     "output_type": "stream",
     "text": [
      "CHECK DIVIDER\n",
      "How many people are dining?two\n",
      "You entered the wrong number\n",
      "How many people are dining?two\n",
      "You entered the wrong number\n",
      "How many people are dining?two\n",
      "You entered the wrong number\n",
      "How many people are dining?two\n",
      "You entered the wrong number\n",
      "How many people are dining?two\n",
      "You entered the wrong number\n",
      "How many people are dining?4\n",
      "Check Total?60\n",
      "Each person should contribute 15.0 dollars.\n"
     ]
    }
   ],
   "source": [
    "print (\"CHECK DIVIDER\")\n",
    "def everything():\n",
    "    diners = float (input (\"How many people are dining?\"))\n",
    "    check_total = float(input (\"Check Total?\"))\n",
    "    contribution = check_total/diners\n",
    "    print (\"Each person should contribute\", contribution, \"dollars.\")\n",
    "    \n",
    "def run_again():\n",
    "    try:\n",
    "        everything()\n",
    "    except:\n",
    "        print(\"You entered the wrong number\")\n",
    "        run_again()\n",
    "\n",
    "    \n",
    "try:\n",
    "   everything()\n",
    "except:\n",
    "    print(\"You entered the wrong number\")\n",
    "    run_again()"
   ]
  },
  {
   "cell_type": "code",
   "execution_count": null,
   "metadata": {},
   "outputs": [],
   "source": []
  },
  {
   "cell_type": "code",
   "execution_count": null,
   "metadata": {},
   "outputs": [],
   "source": []
  },
  {
   "cell_type": "code",
   "execution_count": null,
   "metadata": {},
   "outputs": [],
   "source": []
  }
 ],
 "metadata": {
  "kernelspec": {
   "display_name": "Python 3",
   "language": "python",
   "name": "python3"
  }
 },
 "nbformat": 4,
 "nbformat_minor": 2
}
