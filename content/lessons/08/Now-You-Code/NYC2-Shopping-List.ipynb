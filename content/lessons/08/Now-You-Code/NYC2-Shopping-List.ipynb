{
 "cells": [
  {
   "cell_type": "markdown",
   "metadata": {},
   "source": [
    "# Now You Code 2: Shopping List\n",
    "\n",
    "Write a program to input a list of grocery items for your shopping list and then writes them to a file a line at a time.  The program should keep asking you to enter grocery items until you type `'done'`.\n",
    "\n",
    "After you complete the list, the program should then load the file and read the list back to you by printing each item out.\n",
    "\n",
    "Sample Run:\n",
    "\n",
    "```\n",
    "Let's make a shopping list. Type 'done' when you're finished:\n",
    "Enter Item: milk\n",
    "Enter Item: cheese\n",
    "Enter Item: eggs\n",
    "Enter Item: beer\n",
    "Enter Item: apples\n",
    "Enter Item: done\n",
    "Your shopping list:\n",
    "milk\n",
    "cheese\n",
    "eggs\n",
    "beer\n",
    "apples\n",
    "```\n"
   ]
  },
  {
   "cell_type": "markdown",
   "metadata": {
    "collapsed": true
   },
   "source": [
    "## Step 1: Problem Analysis\n",
    "\n",
    "Inputs:\n",
    "- the items in the shopping list \n",
    "\n",
    "Outputs:\n",
    "- The items in the shopping list listed one line at a time \n",
    "\n",
    "Algorithm (Steps in Program):\n",
    "1. user input until typed done\n",
    "2. File is created from user input\n",
    "3. List is ouput to the user \n",
    "\n"
   ]
  },
  {
   "cell_type": "code",
   "execution_count": 1,
   "metadata": {},
   "outputs": [
    {
     "name": "stdout",
     "output_type": "stream",
     "text": [
      "Enter item: apples\n",
      "Enter item: pears\n",
      "Enter item: oranges\n",
      "Enter item: tacos\n",
      "Enter item: done\n",
      "Your grocery list:\n",
      "\n",
      "apples\n",
      "\n",
      "pears\n",
      "\n",
      "oranges\n",
      "\n",
      "tacos\n",
      "\n"
     ]
    }
   ],
   "source": [
    "filename = \"NYC2-shopping-list.txt\"\n",
    "shoppinglist = open(filename, 'w')\n",
    "while True:\n",
    "    item = input('Enter item: ')\n",
    "    if item.startswith('done'):\n",
    "        break\n",
    "    else:\n",
    "        item = item + '\\n'\n",
    "        shoppinglist.write(item)\n",
    "shoppinglist = open(filename, 'r')\n",
    "groceries = shoppinglist.readlines()\n",
    "print('Your grocery list:\\n')\n",
    "for line in groceries:\n",
    "    print(line)"
   ]
  },
  {
   "cell_type": "markdown",
   "metadata": {
    "collapsed": true
   },
   "source": [
    "## Step 3: Refactoring\n",
    "\n",
    "Refactor the part of your program which reads the shopping list from the file into a separate user-defined function called `readShoppingList` \n",
    "re-write your program to use this function.\n",
    "\n",
    "## ReadShoppingList function\n",
    "\n",
    "Inputs:\n",
    "\n",
    "Outputs:\n",
    "\n",
    "Algorithm (Steps in Program):\n",
    "\n",
    "\n",
    "\n"
   ]
  },
  {
   "cell_type": "code",
   "execution_count": 3,
   "metadata": {},
   "outputs": [
    {
     "name": "stdout",
     "output_type": "stream",
     "text": [
      "Enter item: car\n",
      "Enter item: chair\n",
      "Enter item: potato\n",
      "Enter item: done\n",
      "your grocery list:\n",
      "\n",
      "car\n",
      "\n",
      "chair\n",
      "\n",
      "potato\n",
      "\n"
     ]
    }
   ],
   "source": [
    "## Step 4: Write program again with refactored code.\n",
    "def readShoppingList(filename):\n",
    "    shoppinglist = open(filename, 'r')\n",
    "    groceries = shoppinglist.readlines()\n",
    "    print(\"your grocery list:\\n\")\n",
    "    for line in groceries:\n",
    "        print(line)\n",
    "\n",
    "        \n",
    "filename = \"NYC2-shopping-list.txt\"\n",
    "shoppinglist = open(filename, 'w')\n",
    "while True:\n",
    "    item = input('Enter item: ')\n",
    "    if item.startswith('done'):\n",
    "        shoppinglist.close()\n",
    "        readShoppingList(filename)\n",
    "        break\n",
    "    else:\n",
    "        item = item + '\\n'\n",
    "        shoppinglist.write(item)\n",
    "\n",
    "# TODO Main code here\n",
    "\n"
   ]
  },
  {
   "cell_type": "code",
   "execution_count": 12,
   "metadata": {},
   "outputs": [
    {
     "name": "stdout",
     "output_type": "stream",
     "text": [
      "Please enter the item of your grocery list, or type 'quit' to leave the program. gjfklg\n",
      "Please enter the item of your grocery list, or type 'quit' to leave the program. sdkfhjksd\n",
      "Please enter the item of your grocery list, or type 'quit' to leave the program. fkjdjkf\n",
      "Please enter the item of your grocery list, or type 'quit' to leave the program. quit\n",
      "gjfklg\n",
      "gjfklgsdkfhjksd\n",
      "sdkfhjksdfkjdjkf\n",
      "fkjdjkf\n"
     ]
    }
   ],
   "source": [
    "#shopping_list = []\n",
    "filename = \"Shopping.List.txt\"\n",
    "with open (filename, \"w+\") as f : \n",
    "    while True :\n",
    "        user_input = input(\"Please enter the item of your grocery list, or type 'quit' to leave the program. \").lower()\n",
    "        if user_input != 'quit' :\n",
    "            #user_input.split()\n",
    "            #user_input.strip()\n",
    "            f.write(\"%s\\n\" % (user_input))\n",
    "        elif user_input == 'quit':\n",
    "            break\n",
    "        f.write(user_input)\n",
    "            \n",
    "            \n",
    "with open (filename, \"r\") as rf :\n",
    "    for item in rf.readlines():\n",
    "        print(item.strip())\n",
    "    \n",
    "    \n",
    "            #for item in f.read() :\n",
    "                #shopping_list.append(item)\n",
    "            #for item in shopping_list : \n",
    "               # print(item)\n",
    "            #break\n",
    "        #else :\n",
    "           # pass"
   ]
  },
  {
   "cell_type": "code",
   "execution_count": 12,
   "metadata": {},
   "outputs": [
    {
     "name": "stdout",
     "output_type": "stream",
     "text": [
      "Please enter the item of your grocery list, or type 'quit' to leave the program. gjfklg\n",
      "Please enter the item of your grocery list, or type 'quit' to leave the program. sdkfhjksd\n",
      "Please enter the item of your grocery list, or type 'quit' to leave the program. fkjdjkf\n",
      "Please enter the item of your grocery list, or type 'quit' to leave the program. quit\n",
      "gjfklg\n",
      "gjfklgsdkfhjksd\n",
      "sdkfhjksdfkjdjkf\n",
      "fkjdjkf\n"
     ]
    }
   ],
   "source": [
    "#shopping_list = []\n",
    "filename = \"Shopping.List.txt\"\n",
    "with open (filename, \"w+\") as f : \n",
    "    while True :\n",
    "        user_input = input(\"Please enter the item of your grocery list, or type 'quit' to leave the program. \").lower()\n",
    "        if user_input != 'quit' :\n",
    "            #user_input.split()\n",
    "            #user_input.strip()\n",
    "            f.write(\"%s\\n\" % (user_input))\n",
    "        elif user_input == 'quit':\n",
    "            break\n",
    "        f.write(user_input)\n",
    "            \n",
    "            \n",
    "with open (filename, \"r\") as rf :\n",
    "    for item in rf.readlines():\n",
    "        print(item.strip())\n",
    "    \n",
    "    \n",
    "            #for item in f.read() :\n",
    "                #shopping_list.append(item)\n",
    "            #for item in shopping_list : \n",
    "               # print(item)\n",
    "            #break\n",
    "        #else :\n",
    "           # pass"
   ]
  },
  {
   "cell_type": "markdown",
   "metadata": {},
   "source": [
    "## Step 5: Questions\n",
    "\n",
    "1. Is the refactored code in step 4 easier to read? Why or why not?\n",
    "2. Explain how this program could be refarctored further (there's one thing that's obvious).\n",
    "3. Describe how this program can be modified to support multiple shopping lists?\n"
   ]
  },
  {
   "cell_type": "markdown",
   "metadata": {},
   "source": [
    "## Reminder of Evaluation Criteria\n",
    "\n",
    "1. What the problem attempted (analysis, code, and answered questions) ?\n",
    "2. What the problem analysis thought out? (does the program match the plan?)\n",
    "3. Does the code execute without syntax error?\n",
    "4. Does the code solve the intended problem?\n",
    "5. Is the code well written? (easy to understand, modular, and self-documenting, handles errors)\n"
   ]
  }
 ],
 "metadata": {
  "anaconda-cloud": {},
  "kernelspec": {
   "display_name": "Python 3",
   "language": "python",
   "name": "python3"
  },
  "language_info": {
   "codemirror_mode": {
    "name": "ipython",
    "version": 3
   },
   "file_extension": ".py",
   "mimetype": "text/x-python",
   "name": "python",
   "nbconvert_exporter": "python",
   "pygments_lexer": "ipython3",
   "version": "3.6.5"
  }
 },
 "nbformat": 4,
 "nbformat_minor": 1
}
