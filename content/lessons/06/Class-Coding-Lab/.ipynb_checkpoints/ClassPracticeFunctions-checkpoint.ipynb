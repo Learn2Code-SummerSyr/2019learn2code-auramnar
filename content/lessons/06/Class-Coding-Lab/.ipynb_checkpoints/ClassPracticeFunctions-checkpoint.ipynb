{
 "cells": [
  {
   "cell_type": "raw",
   "metadata": {},
   "source": [
    "Turn this code into a function. Make up the name of the function.\n",
    "total = 2 + 2\n",
    "\n",
    "\n",
    "Code a function that displays the concatenation of two strings. \n",
    "\n",
    "\n",
    "Code a function that tests whether a equals b and, if so, displays (\"ok\").\n",
    "\n",
    "\n",
    "Turn this line of code into a function. Then call the function.\n",
    "print(\"Hello, World!\")\n"
   ]
  },
  {
   "cell_type": "raw",
   "metadata": {},
   "source": [
    "Rewrite this function call so it includes 100 as an argument.\n",
    "add_numbers()\n",
    "\n",
    "\n",
    "Rewrite this first line of this function definition so it includes number as a parameter.\n",
    "def display_number():\n",
    "\n",
    "\n",
    "\n",
    "Call the function add_numbers, passing 10 and 20 as arguments.\n",
    "\n",
    "\n",
    "\n",
    "Code the first line of a function definition. The name of the function is greet. The parameter is greeting.\n",
    "\n",
    "\n",
    "\n",
    "\n",
    "Code the first line of a function definition that has two parameters. Make everything up.\n",
    "\n",
    "\n",
    "\n",
    "In two lines, code a function that displays the sum of its two parameters. Make everything up.\n",
    "\n",
    "\n",
    "\n",
    "\n",
    "Code a function that has two parameters. If the values of the two arguments are the same, display \"same\"\n",
    "\n",
    "\n",
    "\n",
    "Call the function named calc. The arguments are x, which is 23, and y, which is .4 \n",
    "\n",
    "\n",
    "\n",
    "Code the first line of the function that this code is calling.\n",
    "analyze(nation = \"Bangladesh\", pop = 163000000) \n",
    "\n",
    "\n",
    "\n",
    "\n",
    "Call this function using variable arguments. Make up the values, which are strings.\n",
    "def say_hi(greeting, name):\n",
    "  print(greeting + \", \" + name)\n",
    "  \n",
    "  \n",
    " "
   ]
  },
  {
   "cell_type": "code",
   "execution_count": null,
   "metadata": {},
   "outputs": [],
   "source": []
  }
 ],
 "metadata": {
  "kernelspec": {
   "display_name": "Python 3",
   "language": "python",
   "name": "python3"
  },
  "language_info": {
   "codemirror_mode": {
    "name": "ipython",
    "version": 3
   },
   "file_extension": ".py",
   "mimetype": "text/x-python",
   "name": "python",
   "nbconvert_exporter": "python",
   "pygments_lexer": "ipython3",
   "version": "3.6.5"
  }
 },
 "nbformat": 4,
 "nbformat_minor": 2
}
