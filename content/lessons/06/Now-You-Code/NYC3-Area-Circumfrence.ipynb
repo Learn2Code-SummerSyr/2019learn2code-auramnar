{
 "cells": [
  {
   "cell_type": "markdown",
   "metadata": {},
   "source": [
    "# Now You Code 3: Area and Circumfrence\n",
    "\n",
    "In this assignment you are tasks with writing a program which inputs the radius of a circle, and outputs the circumfrence and area of that circle. Feel free to lookup the formulas online. \n",
    "\n",
    "We will use the **Write - Refactor - Test - Rewrite** approach to complete the final solution which uses functions.\n",
    "\n",
    "**NOTE** `import math` then use `math.PI` to get the value of Pi https://en.wikipedia.org/wiki/Pi"
   ]
  },
  {
   "cell_type": "markdown",
   "metadata": {},
   "source": [
    "## Step 1: Write\n",
    "\n",
    "Here's the algorihm of this program. Write the solution in Python.\n",
    "\n",
    "```\n",
    "    input radius as a float\n",
    "    calculate circle area\n",
    "    calcuate circle circumfrence\n",
    "    print radus, area, circumfrence\n",
    "```\n",
    "\n",
    "Example run:\n",
    "\n",
    "```\n",
    "Enter Radius: 1\n",
    "A circle with radius 1.000000 has area 3.141593 and circumfrence 6.283185\n",
    "```\n"
   ]
  },
  {
   "cell_type": "code",
   "execution_count": 14,
   "metadata": {},
   "outputs": [],
   "source": [
    "import math\n",
    "## TODO: Write the solution here Step 1\n",
    "radius=input(\"Please enter the circle \")"
   ]
  },
  {
   "cell_type": "markdown",
   "metadata": {},
   "source": [
    "## Step 2: Refactor\n",
    "\n",
    "Next we need to refactor the `area` and `circumfrence` logic into functions. \n",
    "\n",
    "- `CircleArea()` has one input a `radius` and returns the `area` as output.\n",
    "- `CircleCircumfrence()` has one input a `radius` and returns the `circumfrence` as output. \n"
   ]
  },
  {
   "cell_type": "code",
   "execution_count": 13,
   "metadata": {},
   "outputs": [],
   "source": [
    "## Step 2: Refactor into two functions def CircleArea... and def CircleCircumfrence\n",
    "\n"
   ]
  },
  {
   "cell_type": "markdown",
   "metadata": {},
   "source": [
    "## Step 3: Test \n",
    "\n",
    "Time to test. Write two tests, once for each function\n",
    "```\n",
    "WHEN radius=1 We EXPECT CircleArea(radius) to return 3.141593 \n",
    "WHEN radius=1 We EXPECT CircleCircumfrence(radius) to return 6.283185\n",
    "```\n",
    "\n",
    "Make sure you call the function to get the actual, just like in the coding lab. \n",
    "\n",
    "NOTE: If its accurate to 4 decimal places, that's sufficient. The test values might be different because of how the \"%f\" format code works."
   ]
  },
  {
   "cell_type": "code",
   "execution_count": 12,
   "metadata": {},
   "outputs": [],
   "source": [
    "# Step 3: Write tests.\n"
   ]
  },
  {
   "cell_type": "markdown",
   "metadata": {},
   "source": [
    "## Step 4: rewrite the program to use the function\n",
    "\n",
    "Finally re-write the original program, but call the functions. \n"
   ]
  },
  {
   "cell_type": "code",
   "execution_count": 2,
   "metadata": {},
   "outputs": [
    {
     "name": "stdout",
     "output_type": "stream",
     "text": [
      "What is the radius of the circle: -5\n",
      "The area of the circle is 78.54 and the circumfrence is -31.42\n"
     ]
    }
   ],
   "source": [
    "## Step 4: Write program here from the algorithm above\n",
    "import math\n",
    "def CircleArea(radius):\n",
    "    area=math.pi*radius**2\n",
    "    return area\n",
    "def CircleCircumfrence(radius):\n",
    "    circumfrence=math.pi*radius*2\n",
    "    return circumfrence\n",
    "radius=float(input(\"What is the radius of the circle: \"))\n",
    "print(\"The area of the circle is %0.2f and the circumfrence is %0.2f\" %(CircleArea(radius), CircleCircumfrence(radius)))"
   ]
  },
  {
   "cell_type": "code",
   "execution_count": 1,
   "metadata": {},
   "outputs": [
    {
     "data": {
      "text/html": [
       "<H1>Area-Circumfrence Calculator \n",
       "</H1>"
      ],
      "text/plain": [
       "<IPython.core.display.HTML object>"
      ]
     },
     "metadata": {},
     "output_type": "display_data"
    },
    {
     "name": "stdout",
     "output_type": "stream",
     "text": [
      "Would you like to find the circumfrence or the area of the circle? Type 'exit' if you wish to leave the program.area\n",
      "What is the radius of the circle?4\n",
      "----------------------------------------\n",
      "The area of the circle is 6.2832\n"
     ]
    }
   ],
   "source": [
    "import math\n",
    "from IPython.display import display, HTML\n",
    "pi = math.pi\n",
    "\n",
    "def circlearea(radius):\n",
    "    area = pi * math.sqrt(radius)\n",
    "    print('-'*40)\n",
    "    print(\"The area of the circle is %.4f\" % area)\n",
    "    \n",
    "def circlecircumfrence(radius) :\n",
    "    circumfrence = (2*pi*radius)\n",
    "    print(\"-\"*40) \n",
    "    print(\"The circumfrence of the circle is %.4f\"%(circumfrence))\n",
    "def print_title(text):\n",
    "    return display(HTML(\"<H1>\"+ text +\"</H1>\"))\n",
    "\n",
    "def askuser():\n",
    "    try:\n",
    "        user_input = input(\"Would you like to find the circumfrence or the area of the circle? Type 'exit' if you wish to leave the program.\")\n",
    "        radius_question = \"What is the radius of the circle?\"\n",
    "        \n",
    "        if user_input == 'circumfrence':\n",
    "            radius = float(input(radius_question))\n",
    "            circlecircumfrence(radius)\n",
    "        elif user_input == 'area':\n",
    "            radius = float(input(radius_question))\n",
    "            circlearea(radius)\n",
    "        elif user_input == 'exit':\n",
    "            print('-'*40)\n",
    "            print(\"Exited program.\")\n",
    "        else:\n",
    "            print(\"please input 'circumfrence' or 'area'.\")\n",
    "            askuser()\n",
    "    except:\n",
    "        print(\"please input a number for the radius.\")\n",
    "        askuser()\n",
    "        \n",
    "print_title(\"Area-Circumfrence Calculator \\n\")\n",
    "askuser()\n",
    "            "
   ]
  },
  {
   "cell_type": "markdown",
   "metadata": {},
   "source": [
    "## Step 6: Questions\n",
    "\n",
    "1. Provide 3 advantages for programming a user function in your code like `CircleArea`  or `CircleCircumfrence`\n",
    "2. If we want to guarantee our `CircleCircumfrence` function is 100% accurate, what is the minimum number of test cases must we provide in step 3?\n"
   ]
  },
  {
   "cell_type": "markdown",
   "metadata": {},
   "source": [
    "## Reminder of Evaluation Criteria\n",
    "\n",
    "1. What the problem attempted (analysis, code, and answered questions) ?\n",
    "2. What the problem analysis thought out? (does the program match the plan?)\n",
    "3. Does the code execute without syntax error?\n",
    "4. Does the code solve the intended problem?\n",
    "5. Is the code well written? (easy to understand, modular, and self-documenting, handles errors)\n"
   ]
  },
  {
   "cell_type": "code",
   "execution_count": null,
   "metadata": {
    "collapsed": true
   },
   "outputs": [],
   "source": []
  }
 ],
 "metadata": {
  "anaconda-cloud": {},
  "kernelspec": {
   "display_name": "Python 3",
   "language": "python",
   "name": "python3"
  },
  "language_info": {
   "codemirror_mode": {
    "name": "ipython",
    "version": 3
   },
   "file_extension": ".py",
   "mimetype": "text/x-python",
   "name": "python",
   "nbconvert_exporter": "python",
   "pygments_lexer": "ipython3",
   "version": "3.6.5"
  }
 },
 "nbformat": 4,
 "nbformat_minor": 1
}
