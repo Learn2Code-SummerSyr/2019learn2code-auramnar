{
 "cells": [
  {
   "cell_type": "markdown",
   "metadata": {},
   "source": [
    "# Properties of an variable\n",
    "\n",
    "- Value: A value such as \"20\", \"abcdef\", or 55.\n",
    "- Type: The type of the object, such as integer or string.\n",
    "- Identity: A unique identifier that describes the object.\n",
    "\n"
   ]
  },
  {
   "cell_type": "code",
   "execution_count": 3,
   "metadata": {},
   "outputs": [
    {
     "data": {
      "text/plain": [
       "int"
      ]
     },
     "execution_count": 3,
     "metadata": {},
     "output_type": "execute_result"
    }
   ],
   "source": [
    "variable = 10\n",
    "type(variable)\n",
    "#id(variable)"
   ]
  },
  {
   "cell_type": "code",
   "execution_count": 4,
   "metadata": {},
   "outputs": [
    {
     "data": {
      "text/plain": [
       "1507028320"
      ]
     },
     "execution_count": 4,
     "metadata": {},
     "output_type": "execute_result"
    }
   ],
   "source": [
    "variable = 10\n",
    "id(variable)"
   ]
  },
  {
   "cell_type": "markdown",
   "metadata": {},
   "source": [
    "# Variable names \n",
    "\n",
    "numCars\n",
    "\n",
    "num_cars1\n",
    "\n",
    "_num_cars\n",
    "\n",
    "___numcars2\n",
    "\n",
    "num cars\n",
    "\n",
    "3rd_place\n",
    "\n",
    "third_place_\n",
    "\n",
    "third_place!\n",
    "\n",
    "output\n",
    "\n",
    "print_copy"
   ]
  },
  {
   "cell_type": "markdown",
   "metadata": {},
   "source": [
    "# Expressions\n",
    "\n",
    "\n",
    "6 plus num_items\n",
    "\n",
    "6 times num_items\n",
    "\n",
    "total_days divided by 12\n",
    "\n",
    "5 times t\n",
    "\n",
    "The negative of user_val\n"
   ]
  },
  {
   "cell_type": "markdown",
   "metadata": {},
   "source": [
    "# Compound Operator \n",
    "\n",
    "age += 1 .... being shorthand for age = age + 1"
   ]
  },
  {
   "cell_type": "markdown",
   "metadata": {},
   "source": [
    "## The division operator / performs division and returns a floating-point number. \n",
    "\n",
    "- 20 / 10 is 2.0.\n",
    "- 50 / 50 is 1.0.\n",
    "- 5 / 10 is 0.5\n",
    "\n",
    "## The floored division operator // can be used to round down the result of a floating-point division to the closest whole number value. The resulting value is an integer type if both operands are integers; if either operand is a float, then a float is returned:\n",
    "\n",
    "- 20 // 10 is 2.\n",
    "- 50 // 50 is 1.\n",
    "- 5 // 10 is 0. (5/10 is 0 and the remainder 5 is thrown away).\n",
    "- 5.0 // 2 is 2.0"
   ]
  },
  {
   "cell_type": "markdown",
   "metadata": {},
   "source": [
    "## The basic arithmetic operators include not just +, -, *, /, but also %. The modulo operator (%) evaluates the remainder of the division of two integer operands. Ex: 23 % 10 is 3.\n",
    "\n",
    "Examples:\n",
    "\n",
    "- 24 % 10 is 4. Reason: 24 / 10 is 2 with remainder 4.\n",
    "- 50 % 50 is 0. Reason: 50 / 50 is 1 with remainder 0.\n",
    "- 1 % 2 is 1. Reason: 1 / 2 is 0 with remainder 1."
   ]
  },
  {
   "cell_type": "code",
   "execution_count": null,
   "metadata": {},
   "outputs": [],
   "source": [
    "# A newline character, which indicates the end of a line of text \n",
    "\n",
    "age = input(\"What is your age?\\n\")"
   ]
  },
  {
   "cell_type": "code",
   "execution_count": null,
   "metadata": {},
   "outputs": [],
   "source": []
  }
 ],
 "metadata": {
  "kernelspec": {
   "display_name": "Python 3",
   "language": "python",
   "name": "python3"
  },
  "language_info": {
   "codemirror_mode": {
    "name": "ipython",
    "version": 3
   },
   "file_extension": ".py",
   "mimetype": "text/x-python",
   "name": "python",
   "nbconvert_exporter": "python",
   "pygments_lexer": "ipython3",
   "version": "3.6.5"
  }
 },
 "nbformat": 4,
 "nbformat_minor": 2
}
