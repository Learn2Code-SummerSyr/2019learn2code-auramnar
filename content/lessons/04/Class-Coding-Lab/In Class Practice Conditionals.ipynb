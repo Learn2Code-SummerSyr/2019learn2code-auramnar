{
 "cells": [
  {
   "cell_type": "markdown",
   "metadata": {},
   "source": [
    "## Conditions\n",
    "\n",
    "- if branch is taken when an expression is true\n",
    "- else the other branch is taken\n",
    "- elif multiple branches (three or more)"
   ]
  },
  {
   "cell_type": "raw",
   "metadata": {},
   "source": [
    "if x equals -1\n",
    "     Put \"Disagrees\" to output\n",
    "\n",
    "else if x equals 0\n",
    "     Put \"Neutral\" to output\n",
    "\n",
    "else if x equals 1\n",
    "     Put \"Agrees\" to output\n",
    "\n",
    "else\n",
    "     Put \"Invalid entry\" to output    \n",
    "\n",
    "\n",
    "\n",
    "\n",
    "If x is 1, what is output?\n",
    "If x is -2, what is output?\n",
    "Three branches in the order x equals 1, x equals 0, and x equals -1, and achieved the same results\n",
    "After the third branch (x equals 1), inserts a new branch: else if x equals -1 ... When might that new branch execute?\n",
    "Suppose we removed the else part entirely. If x is 2, which branch will execute?"
   ]
  },
  {
   "cell_type": "raw",
   "metadata": {},
   "source": [
    "What is the final value of num_items? \n",
    "\n",
    "bonus_val = 5\n",
    "\n",
    "if bonus_val < 12:\n",
    "   num_items = 100\n",
    "else:\n",
    "   num_items = 200\n",
    "   \n",
    "   \n",
    "\n",
    "bonus_val = 12\n",
    "\n",
    "if bonus_val < 12:\n",
    "   num_items = 100\n",
    "else:\n",
    "   num_items = 200\n",
    "   \n",
    "   \n",
    "\n",
    "bonus_val = 15\n",
    "num_items = 44\n",
    "\n",
    "if bonus_val < 12:\n",
    "   num_items = num_items + 3\n",
    "else:\n",
    "   num_items = num_items + 6\n",
    "\n",
    "num_items = num_items + 1\n",
    "\n",
    "\n",
    "\n",
    "\n",
    "What is the final value of bonus_val? \n",
    "\n",
    "bonus_val = 11\n",
    "\n",
    "if bonus_val < 12:\n",
    "   bonus_val = bonus_val + 2\n",
    "else:\n",
    "   bonus_val = bonus_val + 10\n",
    "   \n",
    "\n",
    "\n",
    "bonus_val = 11\n",
    "\n",
    "if bonus_val < 12:\n",
    "   bonus_val = bonus_val + 2 \n",
    "   bonus_val = 3 * bonus_val\n",
    "\n",
    "else:\n",
    "   bonus_val = bonus_val + 10\n"
   ]
  },
  {
   "cell_type": "markdown",
   "metadata": {},
   "source": [
    "### The equality operator == evaluates to true if the left side and right side are equal\n",
    "\n",
    "### Good Practice is to be as explicit as possible and reduce the chances of logical errors by using the less-than-or-equal-to rather than just less-than. \n",
    "\n"
   ]
  },
  {
   "cell_type": "code",
   "execution_count": 1,
   "metadata": {},
   "outputs": [
    {
     "name": "stdout",
     "output_type": "stream",
     "text": [
      "Long ago!\n"
     ]
    }
   ],
   "source": [
    "# If year is 2101 or later, print \"Distant future\" (without quotes). \n",
    "# Otherwise, if year is 2001 or greater, print \"21st century\". \n",
    "# Otherwise, if year is 1901 or greater, print \"20th century\". \n",
    "# Else (1900 or earlier), print \"Long ago\". \n",
    "\n",
    "\n",
    "year = 1776 \n",
    "\n",
    "if year >= 2101: \n",
    "    print('Distant future!') \n",
    "elif 2101 > year >= 2001: \n",
    "    print('21st Century!') \n",
    "elif year >= 1901: \n",
    "    print('20th Century!') \n",
    "else: \n",
    "    print('Long ago!')\n",
    "\n"
   ]
  },
  {
   "cell_type": "raw",
   "metadata": {},
   "source": [
    "numDogs is 0\n",
    "\n",
    "\n",
    "\n",
    "numDogs and numCats are the same\n",
    "\n",
    "\n",
    "\n",
    "\n",
    "numDogs and numCats differ\n",
    "\n",
    "\n",
    "\n",
    "numDogs is either less than or greater than numCats\n",
    "\n",
    "\n",
    "\n",
    "\n",
    "userChar is the character 'x'\n",
    "\n"
   ]
  },
  {
   "cell_type": "raw",
   "metadata": {},
   "source": [
    "x is 5, y is 7. Indicate whether the expression evaluates to true or false.\n",
    "\n",
    "x <= 7\n",
    "\n",
    "y >= 7\n",
    "\n",
    "is x <> y a valid expression\n",
    "\n",
    "is x =< y a valid expression?\n",
    "\n",
    "\n",
    "\n",
    "\n",
    "Type the operator to complete the desired expression.\n",
    "\n",
    "\n",
    "numDogs is greater than 10\n",
    "numDogs>10\n",
    "\n",
    "numCars is greater than or equal to 5\n",
    "numCars>=5\n",
    "\n",
    "numCars is 5 or greater\n",
    "numCars>=5\n",
    "\n",
    "centsLost is a negative number\n",
    "centsLost<0"
   ]
  },
  {
   "cell_type": "raw",
   "metadata": {},
   "source": [
    "Operator Chaining\n",
    "\n",
    "x is less than y but greater than z\n",
    "x<y and x>z\n",
    "\n",
    "\n",
    "x is a non-negative number less than 100.\n",
    "x>=0 and x<100\n",
    "\n",
    "Write an expression that will print \"in high school\" if the value of user_grade is between 9 and 12 (inclusive). \n",
    "\n",
    "user_grade = 10\n",
    "if user_grade>=9 and user_grade<=12:\n",
    "    print('in high school')\n",
    "else:\n",
    "    print('not in high school')"
   ]
  },
  {
   "cell_type": "raw",
   "metadata": {},
   "source": [
    "Nested if else statements\n",
    "\n",
    "user_choice = 2  \n",
    "num_items = 5\n",
    "\n",
    "\n",
    "\n",
    "if user_choice == 1:    \n",
    "    print('user_choice is 1')\n",
    "elif user_choice == 2:\n",
    "    if num_items < 0:\n",
    "        print('user_choice is 2 and num_items < 0')\n",
    "    else:\n",
    "        print('user_choice is 2 and num_items >= 0')\n",
    "else:\n",
    "    print('user_choice is neither 1 or 2')\n",
    "    \n",
    "    \n"
   ]
  },
  {
   "cell_type": "raw",
   "metadata": {},
   "source": [
    "Order of evaluation \n",
    "\n",
    "Which operator is evaluated first? \n",
    "\n",
    "(not y) and x\n",
    "\n",
    "w + 3 > x - (y * z)\n",
    "\n",
    "\n",
    "In what order are the operators evaluated? \n",
    "([w + 3] != y - 1) and x\n",
    "\n",
    "\n",
    "\n",
    "\n",
    "\n",
    "(not x) == 3 evaluates as not (x == 3)\n",
    "\n",
    "(w + x)  == [y + z] evaluates as (w + x) == (y + z)\n",
    "\n",
    "(w) and [x == y] and {z} evaluates as (w and x) == (y and z)."
   ]
  },
  {
   "cell_type": "code",
   "execution_count": null,
   "metadata": {},
   "outputs": [
    {
     "name": "stdout",
     "output_type": "stream",
     "text": [
      "Enter weight (in pounds): hkhdfkjh\n",
      "Could not calculate health info.\n",
      "\n",
      "Enter any key ('q' to quit): 67\n",
      "Enter weight (in pounds): 207\n",
      "Enter height (in inches): 500\n",
      "BMI: 0.5820839999999999\n",
      "(CDC: 18.6-24.9 normal)\n",
      "\n"
     ]
    }
   ],
   "source": [
    "user_input = ''\n",
    "while user_input != 'q':\n",
    "    try:\n",
    "        weight = int(input(\"Enter weight (in pounds): \"))\n",
    "        height = int(input(\"Enter height (in inches): \"))\n",
    "\n",
    "        bmi = (float(weight) / float(height * height)) * 703\n",
    "        print('BMI:', bmi)\n",
    "        print('(CDC: 18.6-24.9 normal)\\n')  # Source www.cdc.gov\n",
    "    except:\n",
    "        print('Could not calculate health info.\\n')\n",
    "\n",
    "    user_input = input(\"Enter any key ('q' to quit): \")"
   ]
  },
  {
   "cell_type": "code",
   "execution_count": null,
   "metadata": {},
   "outputs": [],
   "source": []
  }
 ],
 "metadata": {
  "kernelspec": {
   "display_name": "Python 3",
   "language": "python",
   "name": "python3"
  },
  "language_info": {
   "codemirror_mode": {
    "name": "ipython",
    "version": 3
   },
   "file_extension": ".py",
   "mimetype": "text/x-python",
   "name": "python",
   "nbconvert_exporter": "python",
   "pygments_lexer": "ipython3",
   "version": "3.6.5"
  }
 },
 "nbformat": 4,
 "nbformat_minor": 2
}
