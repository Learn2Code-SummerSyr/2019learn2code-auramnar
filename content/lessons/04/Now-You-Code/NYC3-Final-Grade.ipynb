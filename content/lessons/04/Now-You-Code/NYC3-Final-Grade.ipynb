{
 "cells": [
  {
   "cell_type": "markdown",
   "metadata": {},
   "source": [
    "# Now You Code 3: Final Grade in IST256\n",
    "\n",
    "# Part 1\n",
    "\n",
    "Our Course Syllabus has a grading scale here:\n",
    "\n",
    "http://ist256.syr.edu/syllabus/#grading-scale\n",
    "\n",
    "Write a Python program to input a number of points earned out of 600 and then\n",
    "outputs the registrar letter grade. \n",
    "\n",
    "For example:\n",
    "\n",
    "    IST256 Grade Calculator\n",
    "    Enter total points out of 600:  550\n",
    "    Grade: A- \n"
   ]
  },
  {
   "cell_type": "markdown",
   "metadata": {
    "collapsed": true
   },
   "source": [
    "## Step 1: Problem Analysis\n",
    "\n",
    "Inputs:\n",
    "\n",
    "Outputs:\n",
    "\n",
    "Algorithm (Steps in Program):\n",
    "\n",
    "\n"
   ]
  },
  {
   "cell_type": "code",
   "execution_count": 1,
   "metadata": {
    "collapsed": true
   },
   "outputs": [],
   "source": [
    "#Step 2: write code here\n",
    "\n"
   ]
  },
  {
   "cell_type": "markdown",
   "metadata": {},
   "source": [
    "# Part 2\n",
    "\n",
    "Now that you got it working,  re-write your code to handle bad input. Specifically:\n",
    "\n",
    "\n",
    "- non integer values\n",
    "- integer values outside the 0 to 600 range.\n",
    "\n",
    "**Note:** Exception handling is not part of our algorithm. It's a programming concern, not a problem-solving concern!"
   ]
  },
  {
   "cell_type": "code",
   "execution_count": null,
   "metadata": {},
   "outputs": [
    {
     "name": "stdout",
     "output_type": "stream",
     "text": [
      "IST256 Grade Calculator\n",
      "----------------------------------------\n",
      "Enter total points out of 600: \n",
      "700\n",
      "----------------------------------------\n"
     ]
    }
   ],
   "source": [
    "## Step 2 (again): write code again but handle errors with try...except\n",
    "print(\"IST256 Grade Calculator\")\n",
    "print(\"-\"*40)\n",
    "\n",
    "\n",
    "while True:\n",
    "    try:\n",
    "        userpoints = int(input(\"Enter total points out of 600: \\n\"))\n",
    "        print(\"-\"*40)\n",
    "        \n",
    "        while userpoints < 0 or userpoints > 600:\n",
    "            userpoints = int(input(\"Requirements not met, Please write a whole number in integer form: \\n\"))\n",
    "        if userpoints <= 600 and userpoints >=570:\n",
    "            print(\"Congrats, you got a A\")\n",
    "        elif userpoints <= 569 and userpoints >=540:\n",
    "            print(\"Congrats, you got a A-\")\n",
    "        elif userpoints <= 539 and userpoints >=510:\n",
    "            print(\"Congrats, you got a B+\")\n",
    "        elif userpoints <= 509 and userpoints >=480:\n",
    "            print(\"Congrats, you got a B\")\n",
    "        elif userpoints <= 479 and userpoints >=450:\n",
    "            print(\"Congrats, you got a B-\")\n",
    "        elif userpoints <= 449 and userpoints >=420:\n",
    "            print(\"Congrats, you got a C+\")\n",
    "        elif userpoints <= 419 and userpoints >=390:\n",
    "            print(\"Congrats, you got a C\")\n",
    "        elif userpoints <= 389 and userpoints >=360:\n",
    "            print(\"Congrats, you got a C-\")\n",
    "        elif userpoints <= 359 and userpoints >=300:\n",
    "            print(\"Congrats, you got a D\")\n",
    "        elif userpoints <= 299 and userpoints >=0:\n",
    "            print(\"Congrats, you got a F\")\n",
    "        break\n",
    "    except:\n",
    "        print(\"-\"*40)\n",
    "        print(\"Requirements not met, Please write a whole number in integer form: \")"
   ]
  },
  {
   "cell_type": "markdown",
   "metadata": {},
   "source": [
    "## Step 3: Questions\n",
    "\n",
    "1. What specific Python Error are we handling (please provide the name of it)?\n",
    "2. How many times must you execute this program and check the output before you canbe reasonably assured your code is correct? Explain.\n",
    "3. When testing this program do you think its more important to test numbers in the middle of the grade range or exactly on the boundary between one grade range and the next. Justify your response."
   ]
  },
  {
   "cell_type": "markdown",
   "metadata": {},
   "source": [
    "## Reminder of Evaluation Criteria\n",
    "\n",
    "1. What the problem attempted (analysis, code, and answered questions) ?\n",
    "2. What the problem analysis thought out? (does the program match the plan?)\n",
    "3. Does the code execute without syntax error?\n",
    "4. Does the code solve the intended problem?\n",
    "5. Is the code well written? (easy to understand, modular, and self-documenting, handles errors)\n"
   ]
  }
 ],
 "metadata": {
  "anaconda-cloud": {},
  "kernelspec": {
   "display_name": "Python 3",
   "language": "python",
   "name": "python3"
  },
  "language_info": {
   "codemirror_mode": {
    "name": "ipython",
    "version": 3
   },
   "file_extension": ".py",
   "mimetype": "text/x-python",
   "name": "python",
   "nbconvert_exporter": "python",
   "pygments_lexer": "ipython3",
   "version": "3.6.5"
  }
 },
 "nbformat": 4,
 "nbformat_minor": 1
}
