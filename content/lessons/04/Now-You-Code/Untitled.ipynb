{
 "cells": [
  {
   "cell_type": "code",
   "execution_count": 27,
   "metadata": {},
   "outputs": [
    {
     "name": "stdout",
     "output_type": "stream",
     "text": [
      "What is the number grade you recived in IST 256\n",
      "trgh\n",
      "That is not an integer\n"
     ]
    }
   ],
   "source": [
    "try:\n",
    "    num_grade=int(input(\"What is the number grade you recived in IST 256\\n\"))\n",
    "    if(num_grade>=0 and num_grade<=600):       \n",
    "        if(num_grade>=0 and num_grade<=299):\n",
    "            print(\"You got an F\")    \n",
    "        elif(num_grade>=300 and num_grade<=359):\n",
    "            print(\"You got a D\")   \n",
    "        elif(num_grade>=360 and num_grade<=389):\n",
    "            print(\"You got a C-\")\n",
    "        elif(num_grade>=390 and num_grade<=419):\n",
    "            print(\"You got a C\")\n",
    "        elif(num_grade>=420 and num_grade<=449):\n",
    "            print(\"You got a C+\")\n",
    "        elif(num_grade>=450 and num_grade<=479):\n",
    "            print(\"You got a B-\")\n",
    "        elif(num_grade>=480 and num_grade<=509):\n",
    "            print(\"You got a B\")\n",
    "        elif(num_grade>=510 and num_grade<=539):\n",
    "            print(\"You got a B+\")\n",
    "        elif(num_grade>=540 and num_grade<=569):\n",
    "            print(\"You got an A-\")\n",
    "        elif(num_grade>=570 and num_grade<=600):\n",
    "            print(\"You got an A\")\n",
    "    else:\n",
    "        print(\"That grade is not in the course syllabus\")\n",
    "\n",
    "except ValueError:\n",
    "    print(\"That is not an integer\")"
   ]
  },
  {
   "cell_type": "code",
   "execution_count": null,
   "metadata": {},
   "outputs": [],
   "source": []
  }
 ],
 "metadata": {
  "kernelspec": {
   "display_name": "Python 3",
   "language": "python",
   "name": "python3"
  },
  "language_info": {
   "codemirror_mode": {
    "name": "ipython",
    "version": 3
   },
   "file_extension": ".py",
   "mimetype": "text/x-python",
   "name": "python",
   "nbconvert_exporter": "python",
   "pygments_lexer": "ipython3",
   "version": "3.6.5"
  }
 },
 "nbformat": 4,
 "nbformat_minor": 2
}
