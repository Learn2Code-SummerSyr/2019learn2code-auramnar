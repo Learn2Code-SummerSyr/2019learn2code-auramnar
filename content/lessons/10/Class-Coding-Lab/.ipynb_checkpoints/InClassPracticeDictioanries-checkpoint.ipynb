{
 "cells": [
  {
   "cell_type": "raw",
   "metadata": {},
   "source": [
    " key:value pairs -  dictionary contents. : players = {'Lionel Messi': 10, 'Cristiano Ronaldo': 7} "
   ]
  },
  {
   "cell_type": "code",
   "execution_count": 1,
   "metadata": {},
   "outputs": [
    {
     "name": "stdout",
     "output_type": "stream",
     "text": [
      "{'Mr. Goodbar chocolate': 122, 'Red Bull': 33, 'Monster Hitman Sniper energy drink': 270, 'Lipton Brisk iced tea - lemon flavor': 2, 'dark chocolate coated coffee beans': 869, 'Regular drip or percolated coffee': 60, 'Buzz Bites Chocolate Chews': 1639}\n"
     ]
    }
   ],
   "source": [
    "# Caffine content of Common Foods\n",
    "\n",
    "caffeine_content_mg = {\n",
    "    'Mr. Goodbar chocolate': 122,\n",
    "    'Red Bull': 33,\n",
    "    'Monster Hitman Sniper energy drink': 270,\n",
    "    'Lipton Brisk iced tea - lemon flavor': 2,\n",
    "    'dark chocolate coated coffee beans': 869,\n",
    "    'Regular drip or percolated coffee': 60,\n",
    "    'Buzz Bites Chocolate Chews': 1639\n",
    "}\n",
    "\n",
    "print(caffeine_content_mg)"
   ]
  },
  {
   "cell_type": "code",
   "execution_count": 2,
   "metadata": {},
   "outputs": [
    {
     "name": "stdout",
     "output_type": "stream",
     "text": [
      "{'Bob': 27, 'Frank': 75}\n"
     ]
    }
   ],
   "source": [
    "# Create a dictionary that maps the names 'Bob' and 'Frank' to their ages, 27 and 75, respectively. \n",
    "# For this exercise, make 'Bob' the first entry in the dict.\n",
    "ages = {\"Bob\":27, \"Frank\":75}\n",
    "print(ages)\n"
   ]
  },
  {
   "cell_type": "code",
   "execution_count": 3,
   "metadata": {},
   "outputs": [
    {
     "name": "stdout",
     "output_type": "stream",
     "text": [
      "The price of apples is 1.99\n"
     ]
    },
    {
     "ename": "KeyError",
     "evalue": "'lemons'",
     "output_type": "error",
     "traceback": [
      "\u001b[1;31m---------------------------------------------------------------------------\u001b[0m",
      "\u001b[1;31mKeyError\u001b[0m                                  Traceback (most recent call last)",
      "\u001b[1;32m<ipython-input-3-298a4e757cbc>\u001b[0m in \u001b[0;36m<module>\u001b[1;34m()\u001b[0m\n\u001b[0;32m      4\u001b[0m \u001b[1;33m\u001b[0m\u001b[0m\n\u001b[0;32m      5\u001b[0m \u001b[0mprint\u001b[0m\u001b[1;33m(\u001b[0m\u001b[1;34m'The price of apples is'\u001b[0m\u001b[1;33m,\u001b[0m \u001b[0mprices\u001b[0m\u001b[1;33m[\u001b[0m\u001b[1;34m'apples'\u001b[0m\u001b[1;33m]\u001b[0m\u001b[1;33m)\u001b[0m\u001b[1;33m\u001b[0m\u001b[0m\n\u001b[1;32m----> 6\u001b[1;33m \u001b[0mprint\u001b[0m\u001b[1;33m(\u001b[0m\u001b[1;34m'\\nThe price of lemons is'\u001b[0m\u001b[1;33m,\u001b[0m \u001b[0mprices\u001b[0m\u001b[1;33m[\u001b[0m\u001b[1;34m'lemons'\u001b[0m\u001b[1;33m]\u001b[0m\u001b[1;33m)\u001b[0m\u001b[1;33m\u001b[0m\u001b[0m\n\u001b[0m",
      "\u001b[1;31mKeyError\u001b[0m: 'lemons'"
     ]
    }
   ],
   "source": [
    "#Accessing Dictionaries Entries\n",
    "\n",
    "prices = {'apples': 1.99, 'oranges': 1.49}\n",
    "\n",
    "print('The price of apples is', prices['apples'])\n",
    "print('\\nThe price of lemons is', prices['lemons'])"
   ]
  },
  {
   "cell_type": "raw",
   "metadata": {},
   "source": [
    "Dictionary is mutable, so entries can be added, modified, and deleted as necessary.\n",
    "A new dictionary entry is added by using square brackets to specify the key: prices['banana'] = 1.49.\n",
    "A dictionary key is unique – attempting to create a new entry with a key that already exists in the dictionary replaces the existing entry.\n",
    "\n",
    "List of students and grades\n",
    "\n",
    "ADD -  students['John'] = 'A+'  \n",
    "REPLACE-  students['Jessica'] = 'A+'\n",
    "DELETE - del students['Rachel']"
   ]
  },
  {
   "cell_type": "code",
   "execution_count": 4,
   "metadata": {},
   "outputs": [
    {
     "name": "stdout",
     "output_type": "stream",
     "text": [
      "{'banana': 1.49}\n",
      "{'banana': 1.69}\n",
      "{}\n"
     ]
    }
   ],
   "source": [
    "prices = {}  # Create empty dictionary\n",
    "prices['banana'] = 1.49  # Add new entry\n",
    "print(prices)\n",
    "\n",
    "prices['banana'] = 1.69  # Modify entry\n",
    "print(prices)\n",
    "\n",
    "del prices['banana']  # Remove entry\n",
    "print(prices)"
   ]
  },
  {
   "cell_type": "code",
   "execution_count": 9,
   "metadata": {},
   "outputs": [
    {
     "name": "stdout",
     "output_type": "stream",
     "text": [
      "Acura made in Japan\n",
      "Tesla made in USA\n",
      "Fiat made in Italy\n"
     ]
    }
   ],
   "source": [
    "# Write a statement to add the key Tesla with value USA to car_makers\n",
    "# Modify the car maker of Fiat to Italy. \n",
    "# Sample output for the given program:\n",
    "# Acura made in Japan\n",
    "# Fiat made in Italy\n",
    "# Tesla made in USA\n",
    "\n",
    "car_makers = {'Acura': 'Japan', 'Fiat': 'Egypt'}\n",
    "car_makers['Tesla'] = \"USA\"\n",
    "car_makers['Fiat'] = \"Italy\"\n",
    "\n",
    "print('Acura made in', car_makers['Acura'])\n",
    "print('Tesla made in', car_makers['Tesla'])\n",
    "print('Fiat made in', car_makers['Fiat'])"
   ]
  },
  {
   "cell_type": "markdown",
   "metadata": {},
   "source": [
    "### Iterating over a dictionary. For Loops \n",
    "\n",
    "The loop variable set to a key of an entry in each iteration"
   ]
  },
  {
   "cell_type": "code",
   "execution_count": 10,
   "metadata": {},
   "outputs": [
    {
     "name": "stdout",
     "output_type": "stream",
     "text": [
      "Coke: 90\n",
      "Coke_zero: 0\n",
      "Pepsi: 94\n"
     ]
    }
   ],
   "source": [
    "# Dictionary items\n",
    "num_calories = {'Coke':90, 'Coke_zero' :0, 'Pepsi': 94}\n",
    "for soda, calories in num_calories.items():\n",
    "    print('%s: %d' % (soda, calories))"
   ]
  },
  {
   "cell_type": "code",
   "execution_count": 11,
   "metadata": {},
   "outputs": [
    {
     "name": "stdout",
     "output_type": "stream",
     "text": [
      "Coke\n",
      "Coke_zero\n",
      "Pepsi\n"
     ]
    }
   ],
   "source": [
    "# Dictionary keys\n",
    "num_calories = {'Coke':90, 'Coke_zero' :0, 'Pepsi': 94}\n",
    "for soda in num_calories.keys():\n",
    "    print(soda)"
   ]
  },
  {
   "cell_type": "code",
   "execution_count": 12,
   "metadata": {},
   "outputs": [
    {
     "name": "stdout",
     "output_type": "stream",
     "text": [
      "90\n",
      "0\n",
      "94\n"
     ]
    }
   ],
   "source": [
    "# Dictionary values\n",
    "num_calories = {'Coke':90, 'Coke_zero' :0, 'Pepsi': 94}\n",
    "for soda in num_calories.values():\n",
    "    print(soda)"
   ]
  },
  {
   "cell_type": "code",
   "execution_count": 27,
   "metadata": {},
   "outputs": [
    {
     "name": "stdout",
     "output_type": "stream",
     "text": [
      "China 1365830000 \n",
      "\n",
      "India 1247220000 \n",
      "\n",
      "United States 318463000 \n",
      "\n",
      "Indonesia 252164800 \n",
      "\n",
      "China \n",
      "\n",
      "India \n",
      "\n",
      "United States \n",
      "\n",
      "Indonesia \n",
      "\n",
      "1365830000\n",
      "\n",
      "1247220000\n",
      "\n",
      "318463000\n",
      "\n",
      "252164800\n",
      "\n"
     ]
    }
   ],
   "source": [
    "country_pop = {\n",
    "    'China':         1365830000,\n",
    "    'India':         1247220000,\n",
    "    'United States': 318463000,\n",
    "    'Indonesia':     252164800\n",
    "} \n",
    "\n",
    "for countries, values in country_pop.items() :\n",
    "    print(countries, values, \"\\n\")\n",
    "    \n",
    "for countries in country_pop.keys():\n",
    "    print(countries, \"\\n\")\n",
    "    \n",
    "for values in country_pop.values():\n",
    "    print(\"%d\\n\" % (values))"
   ]
  },
  {
   "cell_type": "code",
   "execution_count": null,
   "metadata": {},
   "outputs": [],
   "source": []
  }
 ],
 "metadata": {
  "kernelspec": {
   "display_name": "Python 3",
   "language": "python",
   "name": "python3"
  },
  "language_info": {
   "codemirror_mode": {
    "name": "ipython",
    "version": 3
   },
   "file_extension": ".py",
   "mimetype": "text/x-python",
   "name": "python",
   "nbconvert_exporter": "python",
   "pygments_lexer": "ipython3",
   "version": "3.6.5"
  }
 },
 "nbformat": 4,
 "nbformat_minor": 2
}
