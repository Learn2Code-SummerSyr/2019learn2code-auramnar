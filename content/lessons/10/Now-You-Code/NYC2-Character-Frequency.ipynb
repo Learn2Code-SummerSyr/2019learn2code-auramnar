{
 "cells": [
  {
   "cell_type": "markdown",
   "metadata": {},
   "source": [
    "# Now You Code 2: Character Frequency\n",
    "\n",
    "Write a program to input some text (a word or a sentence). The program should create a histogram of each character in the text and it's frequency. For example the text `apple` has a frequency `a:1, p:2, l:1, e:1`\n",
    "\n",
    "Some advice:\n",
    "\n",
    "- build a dictionary of each character where the character is the key and the value is the number of occurences of that character.\n",
    "- omit spaces, in the input text, and they cannot be represented as dictionary keys\n",
    "- convert the input text to lower case, so that `A` and `a` are counted as the same character.\n",
    "\n",
    "After you count the characters:\n",
    "- sort the dictionary keys alphabetically, \n",
    "- print out the character distribution\n",
    "\n",
    "Example Run:\n",
    "\n",
    "```\n",
    "Enter some text: Michael is a Man from Mississppi.\n",
    ". : 1\n",
    "a : 3\n",
    "c : 1\n",
    "e : 1\n",
    "f : 1\n",
    "h : 1\n",
    "i : 5\n",
    "l : 1\n",
    "m : 4\n",
    "n : 1\n",
    "o : 1\n",
    "p : 2\n",
    "r : 1\n",
    "s : 5\n",
    "```\n"
   ]
  },
  {
   "cell_type": "markdown",
   "metadata": {
    "collapsed": true
   },
   "source": [
    "## Step 1: Problem Analysis\n",
    "\n",
    "Inputs:\n",
    "\n",
    "Outputs:\n",
    "\n",
    "Algorithm (Steps in Program):\n",
    "\n",
    "\n"
   ]
  },
  {
   "cell_type": "code",
   "execution_count": 1,
   "metadata": {},
   "outputs": [
    {
     "name": "stdout",
     "output_type": "stream",
     "text": [
      "Enter a word or sentence: hello\n",
      "{'h': 1, 'e': 1, 'l': 2, 'o': 1}\n"
     ]
    }
   ],
   "source": [
    "## Step 2: Write code here\n",
    "string = input(\"Enter a word or sentence: \")\n",
    "f = {}\n",
    "for i in string:\n",
    "    \n",
    "    f[i] = f.get(i,0) + 1\n",
    "print(f)"
   ]
  },
  {
   "cell_type": "code",
   "execution_count": 1,
   "metadata": {},
   "outputs": [],
   "source": [
    "def characterList(user_text):\n",
    "    sorted_text = user_text.strip().split()\n",
    "    ch_list =[]\n",
    "    for word in sorted_text:\n",
    "        for ch in range(0, len(word)):\n",
    "            ch_list.append(word[ch])\n",
    "    return sorted(ch_list)"
   ]
  },
  {
   "cell_type": "code",
   "execution_count": 2,
   "metadata": {},
   "outputs": [],
   "source": [
    "def chListtoDict(ch_List):\n",
    "    ch_totals ={}\n",
    "    for word in ch_list:\n",
    "        for ch in word:\n",
    "            ch_totals[ch] = ch_totals.get(ch, 0)+ 1\n",
    "    return ch_totals"
   ]
  },
  {
   "cell_type": "code",
   "execution_count": null,
   "metadata": {},
   "outputs": [
    {
     "name": "stdout",
     "output_type": "stream",
     "text": [
      "Enter textdsdsjkhkfs\n",
      "d: 2\n",
      "f: 1\n",
      "h: 1\n",
      "j: 1\n",
      "k: 2\n",
      "s: 3\n",
      "Enter textrfgr3 3t54y 5h53yhh46\n",
      "3: 3\n",
      "4: 2\n",
      "5: 3\n",
      "6: 1\n",
      "f: 1\n",
      "g: 1\n",
      "h: 3\n",
      "r: 2\n",
      "t: 1\n",
      "y: 2\n"
     ]
    }
   ],
   "source": [
    "'''Take a phrase, split into a group of words than list sorted characters'''\n",
    "def characterList(user_text):\n",
    "    sorted_text = user_text.strip().split()\n",
    "    ch_list =[]\n",
    "    for word in sorted_text:\n",
    "        for ch in range(0, len(word)):\n",
    "            ch_list.append(word[ch])\n",
    "    return sorted(ch_list)\n",
    "\n",
    "''' Take list of characters, assign as key in dictionary with the value of occurence'''\n",
    "def chListtoDict(ch_List):\n",
    "    ch_totals ={}\n",
    "    for word in ch_list:\n",
    "        for ch in word:\n",
    "            ch_totals[ch] = ch_totals.get(ch, 0)+ 1\n",
    "    return ch_totals\n",
    "\n",
    "\n",
    "while True:\n",
    "    user_text = input(\"Enter text\").lower()\n",
    "    if 'quit' in user_text:\n",
    "        print(\"Quitting\")\n",
    "        break\n",
    "    if user_text == '':\n",
    "        print(\"No text entered. Try again or type quit\")\n",
    "        continue\n",
    "    else:\n",
    "        ch_list = characterList(user_text)\n",
    "        ch_totals = chListtoDict(ch_list)\n",
    "        for character in ch_totals:\n",
    "            print(\"%s: %d\" % (character, ch_totals[character]))\n",
    "                  \n",
    "       "
   ]
  },
  {
   "cell_type": "markdown",
   "metadata": {},
   "source": [
    "## Step 3: Questions\n",
    "\n",
    "1. Explain how you handled the situation where the dictionary key does not exist? (For instance the first time you encounter a character?)\n",
    "2. What happens when you just press `ENTER` as opposed to entering some actual text? What can be done about this to provide better feedback.\n",
    "3. This program is similar to the popular word cloud generators [http://www.wordclouds.com/] you can find on the Web. Describe how this program could be modified to count words instead of characters.\n",
    "\n"
   ]
  },
  {
   "cell_type": "markdown",
   "metadata": {},
   "source": [
    "## Reminder of Evaluation Criteria\n",
    "\n",
    "1. What the problem attempted (analysis, code, and answered questions) ?\n",
    "2. What the problem analysis thought out? (does the program match the plan?)\n",
    "3. Does the code execute without syntax error?\n",
    "4. Does the code solve the intended problem?\n",
    "5. Is the code well written? (easy to understand, modular, and self-documenting, handles errors)\n"
   ]
  },
  {
   "cell_type": "code",
   "execution_count": null,
   "metadata": {
    "collapsed": true
   },
   "outputs": [],
   "source": []
  }
 ],
 "metadata": {
  "anaconda-cloud": {},
  "kernelspec": {
   "display_name": "Python 3",
   "language": "python",
   "name": "python3"
  },
  "language_info": {
   "codemirror_mode": {
    "name": "ipython",
    "version": 3
   },
   "file_extension": ".py",
   "mimetype": "text/x-python",
   "name": "python",
   "nbconvert_exporter": "python",
   "pygments_lexer": "ipython3",
   "version": "3.6.5"
  }
 },
 "nbformat": 4,
 "nbformat_minor": 1
}
