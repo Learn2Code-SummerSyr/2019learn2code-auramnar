{
 "cells": [
  {
   "cell_type": "markdown",
   "metadata": {},
   "source": [
    "# Now You Code 3: List of numbers\n",
    "\n",
    "This example will demonstrate how to parse an input string into\n",
    "a list of numbers. You will then demonstrate it's a list of\n",
    "numbers by calculating the count, sum(), min(), max() and average\n",
    "of the numbers using Python's len(), sum(), min(), and max() functions.\n",
    "\n",
    "Example Run #1:\n",
    "```\n",
    "    Enter numbers separated by a space: 10 5 0\n",
    "\n",
    "    Numbers: [10.0, 5.0, 0.0]\n",
    "    Count: 3\n",
    "    Min: 0.0\n",
    "    Max: 10.0\n",
    "    Sum: 15.0\n",
    "    Average: 5.0\n",
    "```\n",
    "\n",
    "As usual, devise your plan, write the program, THEN figure out how to handle bad input in Example run #2.\n",
    "\n",
    "HINT: Use split() to make a list from the input, use a loop to convert\n",
    "each item in the list to a float\n",
    "\n",
    "Start out your program by writing your TODO list of steps\n",
    "you'll need to solve the problem!"
   ]
  },
  {
   "cell_type": "markdown",
   "metadata": {
    "collapsed": true
   },
   "source": [
    "## Step 1: Problem Analysis\n",
    "\n",
    "Inputs: a string of numbers separated by a space eg. `10 5 1`\n",
    "\n",
    "Outputs: the count, sum, min, max and average of the numbers\n",
    "\n",
    "Algorithm (Steps in Program):\n",
    "1. Prompt the user to input a list of numbers \n",
    "2. Calculate the amount number \n",
    "3. Calculate the sum, min, max,average\n",
    "4. Display these to the user\n",
    "\n"
   ]
  },
  {
   "cell_type": "code",
   "execution_count": 1,
   "metadata": {
    "scrolled": true
   },
   "outputs": [
    {
     "name": "stdout",
     "output_type": "stream",
     "text": [
      "Enter numbers separated by a space: 12 24 38 92 73 102 106 43 68 73\n",
      "[12, 24, 38, 92, 73, 102, 106, 43, 68, 73]\n",
      "Count:  10\n",
      "Min:  12\n",
      "Max:  106\n",
      "Sum:  631\n",
      "Average:  63.1\n"
     ]
    }
   ],
   "source": [
    "# Step 2: Write solution\n",
    "def NUMBERFUN(): \n",
    "    try: \n",
    "        userinput = input('Enter numbers separated by a space: ') \n",
    "        number = userinput.find(' ') \n",
    "        if number >= 0: \n",
    "            numbers = userinput.split(' ') \n",
    "            numbers = list(map(int, numbers)) \n",
    "            print(numbers) \n",
    "            print('Count: ' , len(numbers)) \n",
    "            print('Min: ' , min(numbers)) \n",
    "            print('Max: ' , max(numbers)) \n",
    "            print('Sum: ' , sum(numbers)) \n",
    "            print('Average: ' , sum(numbers)/len(numbers))\n",
    "        else:\n",
    "            print('Try Again and enter a list of numbers with spaces!') \n",
    "            NUMBERFUN() \n",
    "    except: \n",
    "            print('Try again and enter a list of numbers with spaces!') \n",
    "            NUMBERFUN() \n",
    "NUMBERFUN()"
   ]
  },
  {
   "cell_type": "code",
   "execution_count": null,
   "metadata": {},
   "outputs": [],
   "source": [
    "# Step 2: Write solution \n",
    "userinput = input('Enter numbers separated by a space: ') \n",
    "number = userinput.find(' ') \n",
    "if number >= 0: \n",
    "    numbers = userinput.split(' ') \n",
    "    numbers = list(map(int, numbers)) \n",
    "    print(numbers) \n",
    "    print('Count: ' , len(numbers)) \n",
    "    print('Min: ' , min(numbers)) \n",
    "    print('Max: ' , max(numbers)) \n",
    "    print('Sum: ' , sum(numbers)) \n",
    "    print('Average: ' , sum(numbers)/len(numbers))\n",
    "else:\n",
    "    print('Try Again and enter a list of numbers with spaces!') \n",
    "    \n"
   ]
  },
  {
   "cell_type": "code",
   "execution_count": 1,
   "metadata": {},
   "outputs": [
    {
     "name": "stdout",
     "output_type": "stream",
     "text": [
      "Enter numbers seperated by a space: 13 1037 5\n",
      "Numbers:  [13.0, 1037.0, 5.0]\n",
      "Count:  3\n",
      "Min:  5.0\n",
      "Max:  1037.0\n",
      "Sum:  1055.0\n",
      "Average:  351.6666666666667\n"
     ]
    }
   ],
   "source": [
    "while True:\n",
    "    try:\n",
    "        num = input(\"Enter numbers seperated by a space: \")\n",
    "        num.split(\" \")\n",
    "        floats = [float(num) for num in num.split(\" \")]\n",
    "        print(\"Numbers: \", floats)\n",
    "        print(\"Count: \", len(floats))\n",
    "        print(\"Min: \", min(floats))\n",
    "        print(\"Max: \", max(floats))\n",
    "        print(\"Sum: \", sum(floats))\n",
    "        print(\"Average: \", (sum(floats))/(len(floats)))\n",
    "        break\n",
    "    except:\n",
    "        print(\"You can only enter numbers seperated by a space\")"
   ]
  },
  {
   "cell_type": "markdown",
   "metadata": {},
   "source": [
    "## Step 3: Questions\n",
    "\n",
    "1. Re-write the solution so that it handles bad input:\n",
    "\n",
    "Example Run #2: (Handles bad input)\n",
    "```\n",
    "    Enter numbers separated by a space: 5 mike 3\n",
    "\n",
    "    Error: mike is not a number!\n",
    "```\n",
    "\n",
    "2 Explain part of the solution could be refactored into a function? What would be be the input(s) and output of that function?\n"
   ]
  },
  {
   "cell_type": "markdown",
   "metadata": {},
   "source": [
    "## Reminder of Evaluation Criteria\n",
    "\n",
    "1. What the problem attempted (analysis, code, and answered questions) ?\n",
    "2. What the problem analysis thought out? (does the program match the plan?)\n",
    "3. Does the code execute without syntax error?\n",
    "4. Does the code solve the intended problem?\n",
    "5. Is the code well written? (easy to understand, modular, and self-documenting, handles errors)"
   ]
  },
  {
   "cell_type": "code",
   "execution_count": null,
   "metadata": {},
   "outputs": [],
   "source": []
  }
 ],
 "metadata": {
  "anaconda-cloud": {},
  "kernelspec": {
   "display_name": "Python 3",
   "language": "python",
   "name": "python3"
  },
  "language_info": {
   "codemirror_mode": {
    "name": "ipython",
    "version": 3
   },
   "file_extension": ".py",
   "mimetype": "text/x-python",
   "name": "python",
   "nbconvert_exporter": "python",
   "pygments_lexer": "ipython3",
   "version": "3.6.5"
  }
 },
 "nbformat": 4,
 "nbformat_minor": 1
}
