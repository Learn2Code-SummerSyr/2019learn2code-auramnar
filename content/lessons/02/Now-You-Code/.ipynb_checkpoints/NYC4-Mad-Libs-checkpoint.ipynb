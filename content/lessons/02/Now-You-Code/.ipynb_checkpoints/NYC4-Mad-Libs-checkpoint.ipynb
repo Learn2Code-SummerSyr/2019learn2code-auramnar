{
 "cells": [
  {
   "cell_type": "markdown",
   "metadata": {},
   "source": [
    "# Now You Code 4: Mad Libs!\n",
    "\n",
    "Write a Python program which creates your own unique Mad-Libs! story.\n",
    "\n",
    "If you are not familar with a Mad-Libs! story, check out:\n",
    "http://www.madlibs.com and http://www.madtakes.com\n",
    "\n",
    "Your story should take at least 5 inputs, and should include more than\n",
    "once sentence. \n"
   ]
  },
  {
   "cell_type": "markdown",
   "metadata": {
    "collapsed": true
   },
   "source": [
    "## Step 1: Problem Analysis\n",
    "\n",
    "Inputs:\n",
    "-words that the players are entering into the MadLib\n",
    "\n",
    "Outputs:\n",
    "- the words being on the MadLib in their specific spots\n",
    "\n",
    "Algorithm (Steps in Program):\n",
    "1. input words\n",
    "2. put the words in their specific places in the MadLib"
   ]
  },
  {
   "cell_type": "code",
   "execution_count": 2,
   "metadata": {},
   "outputs": [
    {
     "name": "stdout",
     "output_type": "stream",
     "text": [
      "Enter a noun: lamp\n",
      "Enter an adjective: disgusting\n",
      "Enter a past-tense verb: swam\n",
      "Enter a noun: chair\n",
      "Enter a noun: table\n",
      "Enter a first name: Montoya\n",
      "Enter a noun: computer\n",
      "Enter the same first name: Montoya\n",
      "Enter an exclamation: Wow\n",
      "Enter an Adverb: quickly\n",
      "Once upon a time there was a beautiful lamp who lived in a/an disgusting tower.\n",
      "She swam there all of her life and has never been on the chair.\n",
      "One day. she met a handsome table who came to the tower.\n",
      "'Montoya! Let down your computer!'\n",
      "Montoya looked at him and said 'Wow! Help me down!'\n",
      "When they were together on the ground, they ran off and lived quickly ever after.\n"
     ]
    }
   ],
   "source": [
    "# Step 2: Write code here\n",
    "word_1 = input(\"Enter a noun: \")\n",
    "word_2 = input(\"Enter an adjective: \")\n",
    "word_3 = input(\"Enter a past-tense verb: \")\n",
    "word_4 = input(\"Enter a noun: \")\n",
    "word_5 = input(\"Enter a noun: \")\n",
    "word_6 = input(\"Enter a first name: \")\n",
    "word_7 = input(\"Enter a noun: \")\n",
    "word_8 = input(\"Enter the same first name: \")\n",
    "word_9 = input(\"Enter an exclamation: \")\n",
    "word_10 = input(\"Enter an Adverb: \")\n",
    "\n",
    "print(\"Once upon a time there was a beautiful\", word_1, \"who lived in a/an\", word_2, \"tower\" + \".\")\n",
    "print(\"She\", word_3, \"there all of her life and has never been on the\", word_4 + \".\")\n",
    "print(\"One day. she met a handsome\", word_5, \"who came to the tower\" + \".\")\n",
    "print(\"'\" + word_6 + \"!\", \"Let down your\", word_7 + \"!\" + \"'\")\n",
    "print(word_8, \"looked at him and said\", \"'\" + word_9 + \"!\", \"Help me down!\"+ \"'\")\n",
    "print(\"When they were together on the ground\" + \",\", \"they ran off and lived\", word_10, \"ever after\" + \".\")\n",
    "    "
   ]
  },
  {
   "cell_type": "markdown",
   "metadata": {},
   "source": [
    "## Step 3: Questions\n",
    "\n",
    "1. What happens when neglect to follow the instructions and enter any inputs we desire? Does the code still run? Why?\n",
    "2. What type of error occurs when the program runs but does not handle bad input?\n",
    "3. Is there anything you can do in code to correct this type of error? Why or why not?"
   ]
  },
  {
   "cell_type": "markdown",
   "metadata": {},
   "source": [
    "## Reminder of Evaluation Criteria\n",
    "\n",
    "1. What the problem attempted (analysis, code, and answered questions) ?\n",
    "2. What the problem analysis thought out? (does the program match the plan?)\n",
    "3. Does the code execute without syntax error?\n",
    "4. Does the code solve the intended problem?\n",
    "5. Is the code well written? (easy to understand, modular, and self-documenting, handles errors)\n"
   ]
  },
  {
   "cell_type": "code",
   "execution_count": null,
   "metadata": {
    "collapsed": true
   },
   "outputs": [],
   "source": []
  }
 ],
 "metadata": {
  "anaconda-cloud": {},
  "kernelspec": {
   "display_name": "Python 3",
   "language": "python",
   "name": "python3"
  },
  "language_info": {
   "codemirror_mode": {
    "name": "ipython",
    "version": 3
   },
   "file_extension": ".py",
   "mimetype": "text/x-python",
   "name": "python",
   "nbconvert_exporter": "python",
   "pygments_lexer": "ipython3",
   "version": "3.6.5"
  }
 },
 "nbformat": 4,
 "nbformat_minor": 1
}
